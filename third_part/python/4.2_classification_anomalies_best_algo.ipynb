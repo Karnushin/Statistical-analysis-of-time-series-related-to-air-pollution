{
 "cells": [
  {
   "cell_type": "markdown",
   "metadata": {},
   "source": [
    "**Задача:** взять лучший алгоритм классифицирующий аномалии алгоритм и посчитать другие метрики"
   ]
  },
  {
   "cell_type": "code",
   "execution_count": 29,
   "metadata": {},
   "outputs": [],
   "source": [
    "import pandas as pd\n",
    "import numpy as np\n",
    "import datetime\n",
    "\n",
    "import matplotlib.pyplot as plt\n",
    "import seaborn as sns \n",
    "\n",
    "import os\n",
    "from pathlib import Path\n",
    "\n",
    "#get my written functions\n",
    "from userfuncs import prepare_dataframe, find_borders_nan_intervals, count_frequency, count_missing\n",
    "from userfuncs import get_best_distribution, distribution_by_season, get_metrics\n",
    "\n",
    "import warnings\n",
    "warnings.filterwarnings(\"ignore\")\n",
    "\n",
    "#algorithms\n",
    "#from sklearn.linear_model import LogisticRegression\n",
    "#from sklearn.ensemble import RandomForestClassifier\n",
    "from lightgbm import LGBMClassifier\n",
    "\n",
    "from sklearn.ensemble import IsolationForest\n",
    "\n",
    "#scaler\n",
    "from sklearn.preprocessing import StandardScaler\n",
    "\n",
    "#split\n",
    "from sklearn.model_selection import train_test_split, TimeSeriesSplit\n",
    "\n",
    "#metrics\n",
    "from sklearn.metrics import roc_auc_score, accuracy_score, precision_score, recall_score, f1_score, roc_curve\n",
    "\n",
    "#tqdm\n",
    "from tqdm.notebook import tqdm\n",
    "\n",
    "from collections import defaultdict"
   ]
  },
  {
   "cell_type": "code",
   "execution_count": 30,
   "metadata": {},
   "outputs": [],
   "source": [
    "pd.set_option('display.max_rows', 200)\n",
    "pd.set_option('display.max_columns', 100)"
   ]
  },
  {
   "cell_type": "code",
   "execution_count": 31,
   "metadata": {},
   "outputs": [],
   "source": [
    "from matplotlib import style\n",
    "style.use('fivethirtyeight')"
   ]
  },
  {
   "cell_type": "code",
   "execution_count": 32,
   "metadata": {},
   "outputs": [
    {
     "data": {
      "text/html": [
       "<div>\n",
       "<style scoped>\n",
       "    .dataframe tbody tr th:only-of-type {\n",
       "        vertical-align: middle;\n",
       "    }\n",
       "\n",
       "    .dataframe tbody tr th {\n",
       "        vertical-align: top;\n",
       "    }\n",
       "\n",
       "    .dataframe thead th {\n",
       "        text-align: right;\n",
       "    }\n",
       "</style>\n",
       "<table border=\"1\" class=\"dataframe\">\n",
       "  <thead>\n",
       "    <tr style=\"text-align: right;\">\n",
       "      <th></th>\n",
       "      <th>TSP</th>\n",
       "      <th>SO2</th>\n",
       "      <th>PB</th>\n",
       "      <th>CD</th>\n",
       "    </tr>\n",
       "  </thead>\n",
       "  <tbody>\n",
       "    <tr>\n",
       "      <th>0</th>\n",
       "      <td>9.0</td>\n",
       "      <td>0.02</td>\n",
       "      <td>21.0</td>\n",
       "      <td>0.54</td>\n",
       "    </tr>\n",
       "    <tr>\n",
       "      <th>1</th>\n",
       "      <td>5.0</td>\n",
       "      <td>0.03</td>\n",
       "      <td>20.0</td>\n",
       "      <td>0.53</td>\n",
       "    </tr>\n",
       "  </tbody>\n",
       "</table>\n",
       "</div>"
      ],
      "text/plain": [
       "   TSP   SO2    PB    CD\n",
       "0  9.0  0.02  21.0  0.54\n",
       "1  5.0  0.03  20.0  0.53"
      ]
     },
     "execution_count": 32,
     "metadata": {},
     "output_type": "execute_result"
    }
   ],
   "source": [
    "path_to_data = Path('../../data')\n",
    "df = pd.read_csv(path_to_data / 'prepared_data_prioksk.csv')\n",
    "ELEMENTS = df.columns\n",
    "df.head(2)"
   ]
  },
  {
   "cell_type": "code",
   "execution_count": 33,
   "metadata": {},
   "outputs": [],
   "source": [
    "def code_mean(data, cat_feature, real_feature):\n",
    "    \"\"\"Simple target encoding\"\"\"\n",
    "    return dict(data.groupby(cat_feature)[real_feature].mean())\n",
    "\n",
    "def prepare_data(df, all_targets, lag_start=1, lag_end=15, test_size=0.2, is_split=True):\n",
    "    \n",
    "    start_date = pd.to_datetime('1987-10-01', format='%Y-%m-%d') #дата с которой идет ряд\n",
    "    #так как данные примерно полные были, то заполним таким индексом для создания фичей дальше\n",
    "    #полезно в первую очередь в обучающих целях\n",
    "    df.index = pd.date_range(start=start_date, periods=df.shape[0], freq='D')\n",
    "\n",
    "    test_index = int(len(df)*(1-test_size))\n",
    "    df_lag = None\n",
    "    for col in all_targets:\n",
    "        ts = df[[col]]\n",
    "        for i in range(lag_start, lag_end):\n",
    "            ts[f\"{col}_lag_{i}\"] = ts[col].shift(i)\n",
    "        if df_lag is None:\n",
    "            df_lag = ts\n",
    "        else:\n",
    "            df_lag = df_lag.join(ts)\n",
    "            \n",
    "    extra_cols = list(set(df.columns) - set(df_lag.columns))\n",
    "    df_lag = df_lag.join(df[extra_cols])\n",
    "            \n",
    "    df_lag[\"weekday\"] = df_lag.index.weekday\n",
    "    df_lag['is_weekend'] = df_lag.weekday.isin([5,6])*1\n",
    "    \n",
    "    for col in all_targets:\n",
    "        df_lag[f'{col}_weekday_average'] = list(map(code_mean(df_lag[:test_index], 'weekday', col).get, df_lag.weekday))\n",
    "        \n",
    "    if 'weekday' in df_lag.columns:\n",
    "        df_lag = df_lag.drop([\"weekday\"], axis=1)\n",
    "    df_lag = df_lag.dropna()\n",
    "    \n",
    "    df_lag = df_lag.reset_index(drop=True)\n",
    "    \n",
    "    if is_split:\n",
    "        train = df_lag.loc[:test_index]\n",
    "        test = df_lag.loc[test_index:]\n",
    "        return train, test\n",
    "    else:\n",
    "        return df_lag\n",
    "    \n",
    "\n",
    "def find_optimal_cutoff(y_true, y_pred_prob):\n",
    "    '''Get optimal threshold of roc_curve to maximize roc_auc_score\n",
    "    \n",
    "    Binary classification\n",
    "    \n",
    "    Parameters:\n",
    "        y_true - vector of true values 0 and 1\n",
    "        y_pred_prob - vector of predicted probabilities\n",
    "        \n",
    "    Return:\n",
    "        cutoff\n",
    "    '''\n",
    "    \n",
    "    fpr, tpr, threshold = roc_curve(y_true, y_pred_prob)\n",
    "    i = np.arange(len(tpr)) \n",
    "    roc = pd.DataFrame({'tf' : pd.Series(tpr-(1-fpr), index=i), 'threshold' : pd.Series(threshold, index=i)})\n",
    "    roc_t = roc.iloc[roc['tf'].abs().argsort()[:1]]\n",
    "    return roc_t['threshold'].values[0]"
   ]
  },
  {
   "cell_type": "code",
   "execution_count": 34,
   "metadata": {},
   "outputs": [],
   "source": [
    "ALGORITHMS = ['Lightgbm']\n",
    "METRICS = ['accuracy', 'precision', 'recall', 'f1']"
   ]
  },
  {
   "cell_type": "code",
   "execution_count": 35,
   "metadata": {},
   "outputs": [],
   "source": [
    "#to keep results of auc for all elements for train and test parts\n",
    "index = METRICS.copy()\n",
    "multiindex = pd.MultiIndex.from_tuples([(elem, ix) for elem in ELEMENTS for ix in index])\n",
    "stat_auc = pd.DataFrame(index=multiindex, columns=['Train', 'Test'])"
   ]
  },
  {
   "cell_type": "code",
   "execution_count": 36,
   "metadata": {},
   "outputs": [],
   "source": [
    "useful_columns = ['is_weekend']\n",
    "all_targets = list(df.columns)"
   ]
  },
  {
   "cell_type": "code",
   "execution_count": 37,
   "metadata": {},
   "outputs": [],
   "source": [
    "##Isolation Forest##\n",
    "iforest = IsolationForest(n_estimators=300, contamination=0.03, random_state=42, n_jobs=-1)\n",
    "#1 - outliers, 0 - no outlier\n",
    "for col in all_targets:\n",
    "    df[f'{col}_anomalies'] = [1 if x == -1 else 0 for x in iforest.fit_predict(df[[col]])]"
   ]
  },
  {
   "cell_type": "code",
   "execution_count": 38,
   "metadata": {},
   "outputs": [],
   "source": [
    "df = prepare_data(df, all_targets, lag_start=1, lag_end=14, test_size=0.2, is_split=False)"
   ]
  },
  {
   "cell_type": "markdown",
   "metadata": {},
   "source": [
    "### Algorithms"
   ]
  },
  {
   "cell_type": "code",
   "execution_count": 39,
   "metadata": {},
   "outputs": [],
   "source": [
    "def predict_by_lgbm(X_train, y_train, X_test, **kwargs):\n",
    "    '''Return predicted values on train and test by lgbm'''\n",
    "    \n",
    "    y_train = y_train.values.reshape(1, -1).squeeze()\n",
    "    max_scale_pos_weight = np.bincount(y_train)[0]/np.bincount(y_train)[1]\n",
    "    \n",
    "    params = {\n",
    "        'n_estimators': 1000\n",
    "        , 'learning_rate': 0.05\n",
    "        , 'max_leaves': 31\n",
    "        , 'max_depth': -1\n",
    "        , 'subsample': 0.8\n",
    "        , 'colsample_bytree': 0.9\n",
    "        , 'scale_pos_weight': max_scale_pos_weight\n",
    "        \n",
    "        , 'n_jobs': -1\n",
    "        , 'random_state': 777\n",
    "    }\n",
    "    \n",
    "    model = LGBMClassifier(**params)\n",
    "    model.fit(X_train, y_train, eval_metric=['auc'], verbose=False,\n",
    "             eval_set=[(X_test, y_test)], early_stopping_rounds=100)\n",
    "    \n",
    "    \n",
    "    pred_test = model.predict_proba(X_test)[:, 1]\n",
    "    pred_train = model.predict_proba(X_train)[:, 1]\n",
    "    \n",
    "    return pred_train, pred_test"
   ]
  },
  {
   "cell_type": "markdown",
   "metadata": {},
   "source": [
    "### TSP"
   ]
  },
  {
   "cell_type": "code",
   "execution_count": 40,
   "metadata": {},
   "outputs": [],
   "source": [
    "target_name = 'TSP_anomalies'\n",
    "\n",
    "#to take lag features\n",
    "target_cols = [name for name in df.columns if name.startswith(target_name.split('_')[0])]\n",
    "#take lag features and some other\n",
    "train_columns = target_cols + all_targets + useful_columns\n",
    "useless_cols = ([target_name]\n",
    "#+ [f'{target_name.split(\"_\")[0]}_weekday_average', 'is_weekend']\n",
    "               )\n",
    "train_columns = list(set(train_columns) - set(useless_cols))\n",
    "\n",
    "#словарь для хранения результатов\n",
    "metrics = defaultdict(dict)\n",
    "for algo in ALGORITHMS:\n",
    "    for metric in METRICS:\n",
    "            metrics[algo][metric] = {'Train': [], 'Test': []}"
   ]
  },
  {
   "cell_type": "code",
   "execution_count": 41,
   "metadata": {},
   "outputs": [
    {
     "data": {
      "application/vnd.jupyter.widget-view+json": {
       "model_id": "77b293b524be4ed095f274a00fa228b4",
       "version_major": 2,
       "version_minor": 0
      },
      "text/plain": [
       "HBox(children=(FloatProgress(value=0.0, max=5.0), HTML(value='')))"
      ]
     },
     "metadata": {},
     "output_type": "display_data"
    },
    {
     "name": "stdout",
     "output_type": "stream",
     "text": [
      "\n"
     ]
    },
    {
     "data": {
      "application/vnd.jupyter.widget-view+json": {
       "model_id": "f0577983ffba4cdeb3b8c0e0947c8a37",
       "version_major": 2,
       "version_minor": 0
      },
      "text/plain": [
       "HBox(children=(FloatProgress(value=0.0, max=5.0), HTML(value='')))"
      ]
     },
     "metadata": {},
     "output_type": "display_data"
    },
    {
     "name": "stdout",
     "output_type": "stream",
     "text": [
      "\n"
     ]
    }
   ],
   "source": [
    "tcsv = TimeSeriesSplit(n_splits=5)\n",
    "#get best algorithms\n",
    "auc_l = {algo : {'Train': [], 'Test': []} for algo in ALGORITHMS}\n",
    "\n",
    "y_pred_train = None\n",
    "for train_index, test_index in tqdm(tcsv.split(df), total=tcsv.n_splits):\n",
    "    train, test = df.iloc[train_index], df.iloc[test_index]\n",
    "    X_train, X_test = train.drop([target_name], axis=1), test.drop([target_name], axis=1)\n",
    "    y_train, y_test = train[[target_name]], test[[target_name]]\n",
    "\n",
    "    VAL = 0.5\n",
    "    algo = 'Lightgbm'\n",
    "    pred_train, pred_test = predict_by_lgbm(X_train=X_train, y_train=y_train, X_test=X_test)\n",
    "    try:\n",
    "        auc_l[algo]['Train'].append(roc_auc_score(y_train, pred_train))\n",
    "    except:\n",
    "        auc_l[algo]['Train'].append(VAL)\n",
    "    \n",
    "    try:\n",
    "        auc_l[algo]['Test'].append(roc_auc_score(y_test, pred_test))\n",
    "    except:\n",
    "        auc_l[algo]['Test'].append(VAL)\n",
    "    \n",
    "    if y_pred_train is None:\n",
    "        y_pred_train = np.hstack([pred_train, pred_test])\n",
    "    else:\n",
    "        y_pred_train = np.hstack([y_pred_train, pred_test])\n",
    "        \n",
    "        \n",
    "#оптимальный порог для разбиения auc на 2 класса (нужно для рассчета других метрик)\n",
    "THR = find_optimal_cutoff(df[target_name], y_pred_train)\n",
    "\n",
    "tcsv = TimeSeriesSplit(n_splits=5)\n",
    "\n",
    "for train_index, test_index in tqdm(tcsv.split(df), total=tcsv.n_splits):\n",
    "    train, test = df.iloc[train_index], df.iloc[test_index]\n",
    "    X_train, X_test = train.drop([target_name], axis=1), test.drop([target_name], axis=1)\n",
    "    y_train, y_test = train[[target_name]], test[[target_name]]\n",
    "\n",
    "    algo = 'Lightgbm'\n",
    "    pred_train, pred_test = predict_by_lgbm(X_train=X_train, y_train=y_train, X_test=X_test)\n",
    "    \n",
    "    \n",
    "    pred_train = np.where(pred_train > THR, 1, 0)\n",
    "    pred_test = np.where(pred_test > THR, 1, 0)\n",
    "    tmp = get_metrics(pred_train, y_train, metrics=METRICS)\n",
    "    for k, v in tmp.items():\n",
    "        metrics[algo][k.lower()]['Train'].append(v)\n",
    "    tmp = get_metrics(pred_test, y_test, metrics=METRICS)\n",
    "    for k, v in tmp.items():\n",
    "        metrics[algo][k.lower()]['Test'].append(v)"
   ]
  },
  {
   "cell_type": "code",
   "execution_count": 42,
   "metadata": {},
   "outputs": [],
   "source": [
    "#аггрегируем метрику и записываем в датафрейм\n",
    "tmp = defaultdict(dict)\n",
    "for algo, metric_sample in metrics.items():\n",
    "    for m, sample in metric_sample.items():\n",
    "        tmp[algo][m] = {'Train': np.mean(sample['Train']), 'Test': np.mean(sample['Test'])}\n",
    "metrics = tmp.copy()\n",
    "for algo in ALGORITHMS: #just fo this case is okay\n",
    "    for m in METRICS:\n",
    "        stat_auc.loc[(target_name.split('_')[0], m), 'Train'] = metrics[algo][m]['Train']\n",
    "        stat_auc.loc[(target_name.split('_')[0], m), 'Test'] = metrics[algo][m]['Test']"
   ]
  },
  {
   "cell_type": "code",
   "execution_count": 43,
   "metadata": {},
   "outputs": [
    {
     "data": {
      "text/html": [
       "<div>\n",
       "<style scoped>\n",
       "    .dataframe tbody tr th:only-of-type {\n",
       "        vertical-align: middle;\n",
       "    }\n",
       "\n",
       "    .dataframe tbody tr th {\n",
       "        vertical-align: top;\n",
       "    }\n",
       "\n",
       "    .dataframe thead th {\n",
       "        text-align: right;\n",
       "    }\n",
       "</style>\n",
       "<table border=\"1\" class=\"dataframe\">\n",
       "  <thead>\n",
       "    <tr style=\"text-align: right;\">\n",
       "      <th></th>\n",
       "      <th>Train</th>\n",
       "      <th>Test</th>\n",
       "    </tr>\n",
       "  </thead>\n",
       "  <tbody>\n",
       "    <tr>\n",
       "      <th>accuracy</th>\n",
       "      <td>0.982184</td>\n",
       "      <td>0.987121</td>\n",
       "    </tr>\n",
       "    <tr>\n",
       "      <th>precision</th>\n",
       "      <td>1</td>\n",
       "      <td>0.9</td>\n",
       "    </tr>\n",
       "    <tr>\n",
       "      <th>recall</th>\n",
       "      <td>0.713974</td>\n",
       "      <td>0.780214</td>\n",
       "    </tr>\n",
       "    <tr>\n",
       "      <th>f1</th>\n",
       "      <td>0.820438</td>\n",
       "      <td>0.795556</td>\n",
       "    </tr>\n",
       "  </tbody>\n",
       "</table>\n",
       "</div>"
      ],
      "text/plain": [
       "              Train      Test\n",
       "accuracy   0.982184  0.987121\n",
       "precision         1       0.9\n",
       "recall     0.713974  0.780214\n",
       "f1         0.820438  0.795556"
      ]
     },
     "execution_count": 43,
     "metadata": {},
     "output_type": "execute_result"
    }
   ],
   "source": [
    "stat_auc.loc[(target_name.split('_')[0])]"
   ]
  },
  {
   "cell_type": "markdown",
   "metadata": {},
   "source": [
    "### SO2"
   ]
  },
  {
   "cell_type": "code",
   "execution_count": 44,
   "metadata": {},
   "outputs": [],
   "source": [
    "target_name = 'SO2_anomalies'\n",
    "\n",
    "#to take lag features\n",
    "target_cols = [name for name in df.columns if name.startswith(target_name.split('_')[0])]\n",
    "#take lag features and some other\n",
    "train_columns = target_cols + all_targets + useful_columns\n",
    "useless_cols = ([target_name]\n",
    "#+ [f'{target_name.split(\"_\")[0]}_weekday_average', 'is_weekend']\n",
    "               )\n",
    "train_columns = list(set(train_columns) - set(useless_cols))\n",
    "\n",
    "#словарь для хранения результатов\n",
    "metrics = defaultdict(dict)\n",
    "for algo in ALGORITHMS:\n",
    "    for metric in METRICS:\n",
    "            metrics[algo][metric] = {'Train': [], 'Test': []}"
   ]
  },
  {
   "cell_type": "code",
   "execution_count": 45,
   "metadata": {},
   "outputs": [
    {
     "data": {
      "application/vnd.jupyter.widget-view+json": {
       "model_id": "53f0dcf990a44320a60f71340148e105",
       "version_major": 2,
       "version_minor": 0
      },
      "text/plain": [
       "HBox(children=(FloatProgress(value=0.0, max=5.0), HTML(value='')))"
      ]
     },
     "metadata": {},
     "output_type": "display_data"
    },
    {
     "name": "stdout",
     "output_type": "stream",
     "text": [
      "\n"
     ]
    },
    {
     "data": {
      "application/vnd.jupyter.widget-view+json": {
       "model_id": "3aaf61c1d83645f69a2ff78caf84807c",
       "version_major": 2,
       "version_minor": 0
      },
      "text/plain": [
       "HBox(children=(FloatProgress(value=0.0, max=5.0), HTML(value='')))"
      ]
     },
     "metadata": {},
     "output_type": "display_data"
    },
    {
     "name": "stdout",
     "output_type": "stream",
     "text": [
      "\n"
     ]
    }
   ],
   "source": [
    "tcsv = TimeSeriesSplit(n_splits=5)\n",
    "#get best algorithms\n",
    "auc_l = {algo : {'Train': [], 'Test': []} for algo in ALGORITHMS}\n",
    "\n",
    "y_pred_train = None\n",
    "for train_index, test_index in tqdm(tcsv.split(df), total=tcsv.n_splits):\n",
    "    train, test = df.iloc[train_index], df.iloc[test_index]\n",
    "    X_train, X_test = train.drop([target_name], axis=1), test.drop([target_name], axis=1)\n",
    "    y_train, y_test = train[[target_name]], test[[target_name]]\n",
    "\n",
    "    VAL = 0.5\n",
    "    algo = 'Lightgbm'\n",
    "    pred_train, pred_test = predict_by_lgbm(X_train=X_train, y_train=y_train, X_test=X_test)\n",
    "    try:\n",
    "        auc_l[algo]['Train'].append(roc_auc_score(y_train, pred_train))\n",
    "    except:\n",
    "        auc_l[algo]['Train'].append(VAL)\n",
    "    \n",
    "    try:\n",
    "        auc_l[algo]['Test'].append(roc_auc_score(y_test, pred_test))\n",
    "    except:\n",
    "        auc_l[algo]['Test'].append(VAL)\n",
    "    \n",
    "    if y_pred_train is None:\n",
    "        y_pred_train = np.hstack([pred_train, pred_test])\n",
    "    else:\n",
    "        y_pred_train = np.hstack([y_pred_train, pred_test])\n",
    "        \n",
    "        \n",
    "#оптимальный порог для разбиения auc на 2 класса (нужно для рассчета других метрик)\n",
    "THR = find_optimal_cutoff(df[target_name], y_pred_train)\n",
    "\n",
    "tcsv = TimeSeriesSplit(n_splits=5)\n",
    "\n",
    "for train_index, test_index in tqdm(tcsv.split(df), total=tcsv.n_splits):\n",
    "    train, test = df.iloc[train_index], df.iloc[test_index]\n",
    "    X_train, X_test = train.drop([target_name], axis=1), test.drop([target_name], axis=1)\n",
    "    y_train, y_test = train[[target_name]], test[[target_name]]\n",
    "\n",
    "    algo = 'Lightgbm'\n",
    "    pred_train, pred_test = predict_by_lgbm(X_train=X_train, y_train=y_train, X_test=X_test)\n",
    "    \n",
    "    \n",
    "    pred_train = np.where(pred_train > THR, 1, 0)\n",
    "    pred_test = np.where(pred_test > THR, 1, 0)\n",
    "    tmp = get_metrics(pred_train, y_train, metrics=METRICS)\n",
    "    for k, v in tmp.items():\n",
    "        metrics[algo][k.lower()]['Train'].append(v)\n",
    "    tmp = get_metrics(pred_test, y_test, metrics=METRICS)\n",
    "    for k, v in tmp.items():\n",
    "        metrics[algo][k.lower()]['Test'].append(v)"
   ]
  },
  {
   "cell_type": "code",
   "execution_count": 46,
   "metadata": {},
   "outputs": [],
   "source": [
    "#аггрегируем метрику и записываем в датафрейм\n",
    "tmp = defaultdict(dict)\n",
    "for algo, metric_sample in metrics.items():\n",
    "    for m, sample in metric_sample.items():\n",
    "        tmp[algo][m] = {'Train': np.mean(sample['Train']), 'Test': np.mean(sample['Test'])}\n",
    "metrics = tmp.copy()\n",
    "for algo in ALGORITHMS: #just fo this case is okay\n",
    "    for m in METRICS:\n",
    "        stat_auc.loc[(target_name.split('_')[0], m), 'Train'] = metrics[algo][m]['Train']\n",
    "        stat_auc.loc[(target_name.split('_')[0], m), 'Test'] = metrics[algo][m]['Test']"
   ]
  },
  {
   "cell_type": "code",
   "execution_count": 47,
   "metadata": {},
   "outputs": [
    {
     "data": {
      "text/html": [
       "<div>\n",
       "<style scoped>\n",
       "    .dataframe tbody tr th:only-of-type {\n",
       "        vertical-align: middle;\n",
       "    }\n",
       "\n",
       "    .dataframe tbody tr th {\n",
       "        vertical-align: top;\n",
       "    }\n",
       "\n",
       "    .dataframe thead th {\n",
       "        text-align: right;\n",
       "    }\n",
       "</style>\n",
       "<table border=\"1\" class=\"dataframe\">\n",
       "  <thead>\n",
       "    <tr style=\"text-align: right;\">\n",
       "      <th></th>\n",
       "      <th>Train</th>\n",
       "      <th>Test</th>\n",
       "    </tr>\n",
       "  </thead>\n",
       "  <tbody>\n",
       "    <tr>\n",
       "      <th>accuracy</th>\n",
       "      <td>0.960682</td>\n",
       "      <td>0.988636</td>\n",
       "    </tr>\n",
       "    <tr>\n",
       "      <th>precision</th>\n",
       "      <td>1</td>\n",
       "      <td>0.75</td>\n",
       "    </tr>\n",
       "    <tr>\n",
       "      <th>recall</th>\n",
       "      <td>0.794468</td>\n",
       "      <td>0.776471</td>\n",
       "    </tr>\n",
       "    <tr>\n",
       "      <th>f1</th>\n",
       "      <td>0.850426</td>\n",
       "      <td>0.758929</td>\n",
       "    </tr>\n",
       "  </tbody>\n",
       "</table>\n",
       "</div>"
      ],
      "text/plain": [
       "              Train      Test\n",
       "accuracy   0.960682  0.988636\n",
       "precision         1      0.75\n",
       "recall     0.794468  0.776471\n",
       "f1         0.850426  0.758929"
      ]
     },
     "execution_count": 47,
     "metadata": {},
     "output_type": "execute_result"
    }
   ],
   "source": [
    "stat_auc.loc[(target_name.split('_')[0])]"
   ]
  },
  {
   "cell_type": "markdown",
   "metadata": {},
   "source": [
    "### PB"
   ]
  },
  {
   "cell_type": "code",
   "execution_count": 48,
   "metadata": {},
   "outputs": [],
   "source": [
    "target_name = 'PB_anomalies'\n",
    "\n",
    "#to take lag features\n",
    "target_cols = [name for name in df.columns if name.startswith(target_name.split('_')[0])]\n",
    "#take lag features and some other\n",
    "train_columns = target_cols + all_targets + useful_columns\n",
    "useless_cols = ([target_name]\n",
    "#+ [f'{target_name.split(\"_\")[0]}_weekday_average', 'is_weekend']\n",
    "               )\n",
    "train_columns = list(set(train_columns) - set(useless_cols))\n",
    "\n",
    "#словарь для хранения результатов\n",
    "metrics = defaultdict(dict)\n",
    "for algo in ALGORITHMS:\n",
    "    for metric in METRICS:\n",
    "            metrics[algo][metric] = {'Train': [], 'Test': []}"
   ]
  },
  {
   "cell_type": "code",
   "execution_count": 49,
   "metadata": {},
   "outputs": [
    {
     "data": {
      "application/vnd.jupyter.widget-view+json": {
       "model_id": "7242924b3baf4167aa5e1ef08246437b",
       "version_major": 2,
       "version_minor": 0
      },
      "text/plain": [
       "HBox(children=(FloatProgress(value=0.0, max=5.0), HTML(value='')))"
      ]
     },
     "metadata": {},
     "output_type": "display_data"
    },
    {
     "name": "stdout",
     "output_type": "stream",
     "text": [
      "\n"
     ]
    },
    {
     "data": {
      "application/vnd.jupyter.widget-view+json": {
       "model_id": "960f3977794b412fbf271668ed3ef612",
       "version_major": 2,
       "version_minor": 0
      },
      "text/plain": [
       "HBox(children=(FloatProgress(value=0.0, max=5.0), HTML(value='')))"
      ]
     },
     "metadata": {},
     "output_type": "display_data"
    },
    {
     "name": "stdout",
     "output_type": "stream",
     "text": [
      "\n"
     ]
    }
   ],
   "source": [
    "tcsv = TimeSeriesSplit(n_splits=5)\n",
    "#get best algorithms\n",
    "auc_l = {algo : {'Train': [], 'Test': []} for algo in ALGORITHMS}\n",
    "\n",
    "y_pred_train = None\n",
    "for train_index, test_index in tqdm(tcsv.split(df), total=tcsv.n_splits):\n",
    "    train, test = df.iloc[train_index], df.iloc[test_index]\n",
    "    X_train, X_test = train.drop([target_name], axis=1), test.drop([target_name], axis=1)\n",
    "    y_train, y_test = train[[target_name]], test[[target_name]]\n",
    "\n",
    "    VAL = 0.5\n",
    "    algo = 'Lightgbm'\n",
    "    pred_train, pred_test = predict_by_lgbm(X_train=X_train, y_train=y_train, X_test=X_test)\n",
    "    try:\n",
    "        auc_l[algo]['Train'].append(roc_auc_score(y_train, pred_train))\n",
    "    except:\n",
    "        auc_l[algo]['Train'].append(VAL)\n",
    "    \n",
    "    try:\n",
    "        auc_l[algo]['Test'].append(roc_auc_score(y_test, pred_test))\n",
    "    except:\n",
    "        auc_l[algo]['Test'].append(VAL)\n",
    "    \n",
    "    if y_pred_train is None:\n",
    "        y_pred_train = np.hstack([pred_train, pred_test])\n",
    "    else:\n",
    "        y_pred_train = np.hstack([y_pred_train, pred_test])\n",
    "        \n",
    "        \n",
    "#оптимальный порог для разбиения auc на 2 класса (нужно для рассчета других метрик)\n",
    "THR = find_optimal_cutoff(df[target_name], y_pred_train)\n",
    "\n",
    "tcsv = TimeSeriesSplit(n_splits=5)\n",
    "\n",
    "for train_index, test_index in tqdm(tcsv.split(df), total=tcsv.n_splits):\n",
    "    train, test = df.iloc[train_index], df.iloc[test_index]\n",
    "    X_train, X_test = train.drop([target_name], axis=1), test.drop([target_name], axis=1)\n",
    "    y_train, y_test = train[[target_name]], test[[target_name]]\n",
    "\n",
    "    algo = 'Lightgbm'\n",
    "    pred_train, pred_test = predict_by_lgbm(X_train=X_train, y_train=y_train, X_test=X_test)\n",
    "    \n",
    "    \n",
    "    pred_train = np.where(pred_train > THR, 1, 0)\n",
    "    pred_test = np.where(pred_test > THR, 1, 0)\n",
    "    tmp = get_metrics(pred_train, y_train, metrics=METRICS)\n",
    "    for k, v in tmp.items():\n",
    "        metrics[algo][k.lower()]['Train'].append(v)\n",
    "    tmp = get_metrics(pred_test, y_test, metrics=METRICS)\n",
    "    for k, v in tmp.items():\n",
    "        metrics[algo][k.lower()]['Test'].append(v)"
   ]
  },
  {
   "cell_type": "code",
   "execution_count": 50,
   "metadata": {},
   "outputs": [],
   "source": [
    "#аггрегируем метрику и записываем в датафрейм\n",
    "tmp = defaultdict(dict)\n",
    "for algo, metric_sample in metrics.items():\n",
    "    for m, sample in metric_sample.items():\n",
    "        tmp[algo][m] = {'Train': np.mean(sample['Train']), 'Test': np.mean(sample['Test'])}\n",
    "metrics = tmp.copy()\n",
    "for algo in ALGORITHMS: #just fo this case is okay\n",
    "    for m in METRICS:\n",
    "        stat_auc.loc[(target_name.split('_')[0], m), 'Train'] = metrics[algo][m]['Train']\n",
    "        stat_auc.loc[(target_name.split('_')[0], m), 'Test'] = metrics[algo][m]['Test']"
   ]
  },
  {
   "cell_type": "code",
   "execution_count": 51,
   "metadata": {},
   "outputs": [
    {
     "data": {
      "text/html": [
       "<div>\n",
       "<style scoped>\n",
       "    .dataframe tbody tr th:only-of-type {\n",
       "        vertical-align: middle;\n",
       "    }\n",
       "\n",
       "    .dataframe tbody tr th {\n",
       "        vertical-align: top;\n",
       "    }\n",
       "\n",
       "    .dataframe thead th {\n",
       "        text-align: right;\n",
       "    }\n",
       "</style>\n",
       "<table border=\"1\" class=\"dataframe\">\n",
       "  <thead>\n",
       "    <tr style=\"text-align: right;\">\n",
       "      <th></th>\n",
       "      <th>Train</th>\n",
       "      <th>Test</th>\n",
       "    </tr>\n",
       "  </thead>\n",
       "  <tbody>\n",
       "    <tr>\n",
       "      <th>accuracy</th>\n",
       "      <td>0.969924</td>\n",
       "      <td>0.997727</td>\n",
       "    </tr>\n",
       "    <tr>\n",
       "      <th>precision</th>\n",
       "      <td>0.4</td>\n",
       "      <td>0.366667</td>\n",
       "    </tr>\n",
       "    <tr>\n",
       "      <th>recall</th>\n",
       "      <td>0.4</td>\n",
       "      <td>0.4</td>\n",
       "    </tr>\n",
       "    <tr>\n",
       "      <th>f1</th>\n",
       "      <td>0.4</td>\n",
       "      <td>0.381818</td>\n",
       "    </tr>\n",
       "  </tbody>\n",
       "</table>\n",
       "</div>"
      ],
      "text/plain": [
       "              Train      Test\n",
       "accuracy   0.969924  0.997727\n",
       "precision       0.4  0.366667\n",
       "recall          0.4       0.4\n",
       "f1              0.4  0.381818"
      ]
     },
     "execution_count": 51,
     "metadata": {},
     "output_type": "execute_result"
    }
   ],
   "source": [
    "stat_auc.loc[(target_name.split('_')[0])]"
   ]
  },
  {
   "cell_type": "markdown",
   "metadata": {},
   "source": [
    "### CD"
   ]
  },
  {
   "cell_type": "code",
   "execution_count": 52,
   "metadata": {},
   "outputs": [],
   "source": [
    "target_name = 'CD_anomalies'\n",
    "\n",
    "#to take lag features\n",
    "target_cols = [name for name in df.columns if name.startswith(target_name.split('_')[0])]\n",
    "#take lag features and some other\n",
    "train_columns = target_cols + all_targets + useful_columns\n",
    "useless_cols = ([target_name]\n",
    "#+ [f'{target_name.split(\"_\")[0]}_weekday_average', 'is_weekend']\n",
    "               )\n",
    "train_columns = list(set(train_columns) - set(useless_cols))\n",
    "\n",
    "#словарь для хранения результатов\n",
    "metrics = defaultdict(dict)\n",
    "for algo in ALGORITHMS:\n",
    "    for metric in METRICS:\n",
    "            metrics[algo][metric] = {'Train': [], 'Test': []}"
   ]
  },
  {
   "cell_type": "code",
   "execution_count": 53,
   "metadata": {},
   "outputs": [
    {
     "data": {
      "application/vnd.jupyter.widget-view+json": {
       "model_id": "1949764ae7e14387b3761fcbf52f808c",
       "version_major": 2,
       "version_minor": 0
      },
      "text/plain": [
       "HBox(children=(FloatProgress(value=0.0, max=5.0), HTML(value='')))"
      ]
     },
     "metadata": {},
     "output_type": "display_data"
    },
    {
     "name": "stdout",
     "output_type": "stream",
     "text": [
      "\n"
     ]
    },
    {
     "data": {
      "application/vnd.jupyter.widget-view+json": {
       "model_id": "2e67a76c42c44a97b823f5e0b23b97a5",
       "version_major": 2,
       "version_minor": 0
      },
      "text/plain": [
       "HBox(children=(FloatProgress(value=0.0, max=5.0), HTML(value='')))"
      ]
     },
     "metadata": {},
     "output_type": "display_data"
    },
    {
     "name": "stdout",
     "output_type": "stream",
     "text": [
      "\n"
     ]
    }
   ],
   "source": [
    "tcsv = TimeSeriesSplit(n_splits=5)\n",
    "#get best algorithms\n",
    "auc_l = {algo : {'Train': [], 'Test': []} for algo in ALGORITHMS}\n",
    "\n",
    "y_pred_train = None\n",
    "for train_index, test_index in tqdm(tcsv.split(df), total=tcsv.n_splits):\n",
    "    train, test = df.iloc[train_index], df.iloc[test_index]\n",
    "    X_train, X_test = train.drop([target_name], axis=1), test.drop([target_name], axis=1)\n",
    "    y_train, y_test = train[[target_name]], test[[target_name]]\n",
    "\n",
    "    VAL = 0.5\n",
    "    algo = 'Lightgbm'\n",
    "    pred_train, pred_test = predict_by_lgbm(X_train=X_train, y_train=y_train, X_test=X_test)\n",
    "    try:\n",
    "        auc_l[algo]['Train'].append(roc_auc_score(y_train, pred_train))\n",
    "    except:\n",
    "        auc_l[algo]['Train'].append(VAL)\n",
    "    \n",
    "    try:\n",
    "        auc_l[algo]['Test'].append(roc_auc_score(y_test, pred_test))\n",
    "    except:\n",
    "        auc_l[algo]['Test'].append(VAL)\n",
    "    \n",
    "    if y_pred_train is None:\n",
    "        y_pred_train = np.hstack([pred_train, pred_test])\n",
    "    else:\n",
    "        y_pred_train = np.hstack([y_pred_train, pred_test])\n",
    "        \n",
    "        \n",
    "#оптимальный порог для разбиения auc на 2 класса (нужно для рассчета других метрик)\n",
    "THR = find_optimal_cutoff(df[target_name], y_pred_train)\n",
    "\n",
    "tcsv = TimeSeriesSplit(n_splits=5)\n",
    "\n",
    "for train_index, test_index in tqdm(tcsv.split(df), total=tcsv.n_splits):\n",
    "    train, test = df.iloc[train_index], df.iloc[test_index]\n",
    "    X_train, X_test = train.drop([target_name], axis=1), test.drop([target_name], axis=1)\n",
    "    y_train, y_test = train[[target_name]], test[[target_name]]\n",
    "\n",
    "    algo = 'Lightgbm'\n",
    "    pred_train, pred_test = predict_by_lgbm(X_train=X_train, y_train=y_train, X_test=X_test)\n",
    "    \n",
    "    \n",
    "    pred_train = np.where(pred_train > THR, 1, 0)\n",
    "    pred_test = np.where(pred_test > THR, 1, 0)\n",
    "    tmp = get_metrics(pred_train, y_train, metrics=METRICS)\n",
    "    for k, v in tmp.items():\n",
    "        metrics[algo][k.lower()]['Train'].append(v)\n",
    "    tmp = get_metrics(pred_test, y_test, metrics=METRICS)\n",
    "    for k, v in tmp.items():\n",
    "        metrics[algo][k.lower()]['Test'].append(v)"
   ]
  },
  {
   "cell_type": "code",
   "execution_count": 54,
   "metadata": {},
   "outputs": [],
   "source": [
    "#аггрегируем метрику и записываем в датафрейм\n",
    "tmp = defaultdict(dict)\n",
    "for algo, metric_sample in metrics.items():\n",
    "    for m, sample in metric_sample.items():\n",
    "        tmp[algo][m] = {'Train': np.mean(sample['Train']), 'Test': np.mean(sample['Test'])}\n",
    "metrics = tmp.copy()\n",
    "for algo in ALGORITHMS: #just fo this case is okay\n",
    "    for m in METRICS:\n",
    "        stat_auc.loc[(target_name.split('_')[0], m), 'Train'] = metrics[algo][m]['Train']\n",
    "        stat_auc.loc[(target_name.split('_')[0], m), 'Test'] = metrics[algo][m]['Test']"
   ]
  },
  {
   "cell_type": "code",
   "execution_count": 55,
   "metadata": {},
   "outputs": [
    {
     "data": {
      "text/html": [
       "<div>\n",
       "<style scoped>\n",
       "    .dataframe tbody tr th:only-of-type {\n",
       "        vertical-align: middle;\n",
       "    }\n",
       "\n",
       "    .dataframe tbody tr th {\n",
       "        vertical-align: top;\n",
       "    }\n",
       "\n",
       "    .dataframe thead th {\n",
       "        text-align: right;\n",
       "    }\n",
       "</style>\n",
       "<table border=\"1\" class=\"dataframe\">\n",
       "  <thead>\n",
       "    <tr style=\"text-align: right;\">\n",
       "      <th></th>\n",
       "      <th>Train</th>\n",
       "      <th>Test</th>\n",
       "    </tr>\n",
       "  </thead>\n",
       "  <tbody>\n",
       "    <tr>\n",
       "      <th>accuracy</th>\n",
       "      <td>0.989394</td>\n",
       "      <td>0.99697</td>\n",
       "    </tr>\n",
       "    <tr>\n",
       "      <th>precision</th>\n",
       "      <td>0.8</td>\n",
       "      <td>0.8</td>\n",
       "    </tr>\n",
       "    <tr>\n",
       "      <th>recall</th>\n",
       "      <td>0.782609</td>\n",
       "      <td>0.75</td>\n",
       "    </tr>\n",
       "    <tr>\n",
       "      <th>f1</th>\n",
       "      <td>0.790909</td>\n",
       "      <td>0.771429</td>\n",
       "    </tr>\n",
       "  </tbody>\n",
       "</table>\n",
       "</div>"
      ],
      "text/plain": [
       "              Train      Test\n",
       "accuracy   0.989394   0.99697\n",
       "precision       0.8       0.8\n",
       "recall     0.782609      0.75\n",
       "f1         0.790909  0.771429"
      ]
     },
     "execution_count": 55,
     "metadata": {},
     "output_type": "execute_result"
    }
   ],
   "source": [
    "stat_auc.loc[(target_name.split('_')[0])]"
   ]
  },
  {
   "cell_type": "markdown",
   "metadata": {},
   "source": [
    "### Результат"
   ]
  },
  {
   "cell_type": "code",
   "execution_count": 56,
   "metadata": {},
   "outputs": [
    {
     "data": {
      "text/html": [
       "<div>\n",
       "<style scoped>\n",
       "    .dataframe tbody tr th:only-of-type {\n",
       "        vertical-align: middle;\n",
       "    }\n",
       "\n",
       "    .dataframe tbody tr th {\n",
       "        vertical-align: top;\n",
       "    }\n",
       "\n",
       "    .dataframe thead th {\n",
       "        text-align: right;\n",
       "    }\n",
       "</style>\n",
       "<table border=\"1\" class=\"dataframe\">\n",
       "  <thead>\n",
       "    <tr style=\"text-align: right;\">\n",
       "      <th></th>\n",
       "      <th></th>\n",
       "      <th>Train</th>\n",
       "      <th>Test</th>\n",
       "    </tr>\n",
       "  </thead>\n",
       "  <tbody>\n",
       "    <tr>\n",
       "      <th rowspan=\"4\" valign=\"top\">TSP</th>\n",
       "      <th>accuracy</th>\n",
       "      <td>0.982184</td>\n",
       "      <td>0.987121</td>\n",
       "    </tr>\n",
       "    <tr>\n",
       "      <th>precision</th>\n",
       "      <td>1</td>\n",
       "      <td>0.9</td>\n",
       "    </tr>\n",
       "    <tr>\n",
       "      <th>recall</th>\n",
       "      <td>0.713974</td>\n",
       "      <td>0.780214</td>\n",
       "    </tr>\n",
       "    <tr>\n",
       "      <th>f1</th>\n",
       "      <td>0.820438</td>\n",
       "      <td>0.795556</td>\n",
       "    </tr>\n",
       "    <tr>\n",
       "      <th rowspan=\"4\" valign=\"top\">SO2</th>\n",
       "      <th>accuracy</th>\n",
       "      <td>0.960682</td>\n",
       "      <td>0.988636</td>\n",
       "    </tr>\n",
       "    <tr>\n",
       "      <th>precision</th>\n",
       "      <td>1</td>\n",
       "      <td>0.75</td>\n",
       "    </tr>\n",
       "    <tr>\n",
       "      <th>recall</th>\n",
       "      <td>0.794468</td>\n",
       "      <td>0.776471</td>\n",
       "    </tr>\n",
       "    <tr>\n",
       "      <th>f1</th>\n",
       "      <td>0.850426</td>\n",
       "      <td>0.758929</td>\n",
       "    </tr>\n",
       "    <tr>\n",
       "      <th rowspan=\"4\" valign=\"top\">PB</th>\n",
       "      <th>accuracy</th>\n",
       "      <td>0.969924</td>\n",
       "      <td>0.997727</td>\n",
       "    </tr>\n",
       "    <tr>\n",
       "      <th>precision</th>\n",
       "      <td>0.4</td>\n",
       "      <td>0.366667</td>\n",
       "    </tr>\n",
       "    <tr>\n",
       "      <th>recall</th>\n",
       "      <td>0.4</td>\n",
       "      <td>0.4</td>\n",
       "    </tr>\n",
       "    <tr>\n",
       "      <th>f1</th>\n",
       "      <td>0.4</td>\n",
       "      <td>0.381818</td>\n",
       "    </tr>\n",
       "    <tr>\n",
       "      <th rowspan=\"4\" valign=\"top\">CD</th>\n",
       "      <th>accuracy</th>\n",
       "      <td>0.989394</td>\n",
       "      <td>0.99697</td>\n",
       "    </tr>\n",
       "    <tr>\n",
       "      <th>precision</th>\n",
       "      <td>0.8</td>\n",
       "      <td>0.8</td>\n",
       "    </tr>\n",
       "    <tr>\n",
       "      <th>recall</th>\n",
       "      <td>0.782609</td>\n",
       "      <td>0.75</td>\n",
       "    </tr>\n",
       "    <tr>\n",
       "      <th>f1</th>\n",
       "      <td>0.790909</td>\n",
       "      <td>0.771429</td>\n",
       "    </tr>\n",
       "  </tbody>\n",
       "</table>\n",
       "</div>"
      ],
      "text/plain": [
       "                  Train      Test\n",
       "TSP accuracy   0.982184  0.987121\n",
       "    precision         1       0.9\n",
       "    recall     0.713974  0.780214\n",
       "    f1         0.820438  0.795556\n",
       "SO2 accuracy   0.960682  0.988636\n",
       "    precision         1      0.75\n",
       "    recall     0.794468  0.776471\n",
       "    f1         0.850426  0.758929\n",
       "PB  accuracy   0.969924  0.997727\n",
       "    precision       0.4  0.366667\n",
       "    recall          0.4       0.4\n",
       "    f1              0.4  0.381818\n",
       "CD  accuracy   0.989394   0.99697\n",
       "    precision       0.8       0.8\n",
       "    recall     0.782609      0.75\n",
       "    f1         0.790909  0.771429"
      ]
     },
     "execution_count": 56,
     "metadata": {},
     "output_type": "execute_result"
    }
   ],
   "source": [
    "stat_auc"
   ]
  },
  {
   "cell_type": "code",
   "execution_count": 57,
   "metadata": {},
   "outputs": [
    {
     "data": {
      "text/html": [
       "<div>\n",
       "<style scoped>\n",
       "    .dataframe tbody tr th:only-of-type {\n",
       "        vertical-align: middle;\n",
       "    }\n",
       "\n",
       "    .dataframe tbody tr th {\n",
       "        vertical-align: top;\n",
       "    }\n",
       "\n",
       "    .dataframe thead tr th {\n",
       "        text-align: left;\n",
       "    }\n",
       "</style>\n",
       "<table border=\"1\" class=\"dataframe\">\n",
       "  <thead>\n",
       "    <tr>\n",
       "      <th></th>\n",
       "      <th colspan=\"4\" halign=\"left\">TSP</th>\n",
       "      <th colspan=\"4\" halign=\"left\">SO2</th>\n",
       "      <th colspan=\"4\" halign=\"left\">PB</th>\n",
       "      <th colspan=\"4\" halign=\"left\">CD</th>\n",
       "    </tr>\n",
       "    <tr>\n",
       "      <th></th>\n",
       "      <th>accuracy</th>\n",
       "      <th>precision</th>\n",
       "      <th>recall</th>\n",
       "      <th>f1</th>\n",
       "      <th>accuracy</th>\n",
       "      <th>precision</th>\n",
       "      <th>recall</th>\n",
       "      <th>f1</th>\n",
       "      <th>accuracy</th>\n",
       "      <th>precision</th>\n",
       "      <th>recall</th>\n",
       "      <th>f1</th>\n",
       "      <th>accuracy</th>\n",
       "      <th>precision</th>\n",
       "      <th>recall</th>\n",
       "      <th>f1</th>\n",
       "    </tr>\n",
       "  </thead>\n",
       "  <tbody>\n",
       "    <tr>\n",
       "      <th>Train</th>\n",
       "      <td>0.982184</td>\n",
       "      <td>1</td>\n",
       "      <td>0.713974</td>\n",
       "      <td>0.820438</td>\n",
       "      <td>0.960682</td>\n",
       "      <td>1</td>\n",
       "      <td>0.794468</td>\n",
       "      <td>0.850426</td>\n",
       "      <td>0.969924</td>\n",
       "      <td>0.4</td>\n",
       "      <td>0.4</td>\n",
       "      <td>0.4</td>\n",
       "      <td>0.989394</td>\n",
       "      <td>0.8</td>\n",
       "      <td>0.782609</td>\n",
       "      <td>0.790909</td>\n",
       "    </tr>\n",
       "    <tr>\n",
       "      <th>Test</th>\n",
       "      <td>0.987121</td>\n",
       "      <td>0.9</td>\n",
       "      <td>0.780214</td>\n",
       "      <td>0.795556</td>\n",
       "      <td>0.988636</td>\n",
       "      <td>0.75</td>\n",
       "      <td>0.776471</td>\n",
       "      <td>0.758929</td>\n",
       "      <td>0.997727</td>\n",
       "      <td>0.366667</td>\n",
       "      <td>0.4</td>\n",
       "      <td>0.381818</td>\n",
       "      <td>0.99697</td>\n",
       "      <td>0.8</td>\n",
       "      <td>0.75</td>\n",
       "      <td>0.771429</td>\n",
       "    </tr>\n",
       "  </tbody>\n",
       "</table>\n",
       "</div>"
      ],
      "text/plain": [
       "            TSP                                     SO2                      \\\n",
       "       accuracy precision    recall        f1  accuracy precision    recall   \n",
       "Train  0.982184         1  0.713974  0.820438  0.960682         1  0.794468   \n",
       "Test   0.987121       0.9  0.780214  0.795556  0.988636      0.75  0.776471   \n",
       "\n",
       "                       PB                                   CD            \\\n",
       "             f1  accuracy precision recall        f1  accuracy precision   \n",
       "Train  0.850426  0.969924       0.4    0.4       0.4  0.989394       0.8   \n",
       "Test   0.758929  0.997727  0.366667    0.4  0.381818   0.99697       0.8   \n",
       "\n",
       "                           \n",
       "         recall        f1  \n",
       "Train  0.782609  0.790909  \n",
       "Test       0.75  0.771429  "
      ]
     },
     "execution_count": 57,
     "metadata": {},
     "output_type": "execute_result"
    }
   ],
   "source": [
    "stat_auc.T"
   ]
  },
  {
   "cell_type": "code",
   "execution_count": null,
   "metadata": {},
   "outputs": [],
   "source": []
  }
 ],
 "metadata": {
  "kernelspec": {
   "display_name": "Python 3",
   "language": "python",
   "name": "python3"
  },
  "language_info": {
   "codemirror_mode": {
    "name": "ipython",
    "version": 3
   },
   "file_extension": ".py",
   "mimetype": "text/x-python",
   "name": "python",
   "nbconvert_exporter": "python",
   "pygments_lexer": "ipython3",
   "version": "3.7.6"
  }
 },
 "nbformat": 4,
 "nbformat_minor": 4
}
