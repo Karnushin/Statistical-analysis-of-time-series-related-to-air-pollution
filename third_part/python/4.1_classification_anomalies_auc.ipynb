{
 "cells": [
  {
   "cell_type": "markdown",
   "metadata": {},
   "source": [
    "**Задача:** по имеющимся значениям по конкретному веществу классифицировать объект: аномальный или нет"
   ]
  },
  {
   "cell_type": "code",
   "execution_count": 29,
   "metadata": {},
   "outputs": [],
   "source": [
    "import pandas as pd\n",
    "import numpy as np\n",
    "import datetime\n",
    "\n",
    "import matplotlib.pyplot as plt\n",
    "import seaborn as sns \n",
    "\n",
    "import os\n",
    "from pathlib import Path\n",
    "\n",
    "#get my written functions\n",
    "from userfuncs import prepare_dataframe, find_borders_nan_intervals, count_frequency, count_missing\n",
    "from userfuncs import get_best_distribution, distribution_by_season, get_metrics\n",
    "\n",
    "import warnings\n",
    "warnings.filterwarnings(\"ignore\")\n",
    "\n",
    "#algorithms\n",
    "from sklearn.linear_model import LogisticRegression\n",
    "from sklearn.ensemble import RandomForestClassifier\n",
    "from lightgbm import LGBMClassifier\n",
    "\n",
    "from sklearn.ensemble import IsolationForest\n",
    "\n",
    "#scaler\n",
    "from sklearn.preprocessing import StandardScaler\n",
    "\n",
    "#split\n",
    "from sklearn.model_selection import train_test_split, TimeSeriesSplit\n",
    "\n",
    "#metrics\n",
    "from sklearn.metrics import roc_auc_score, accuracy_score, precision_score, recall_score, f1_score\n",
    "\n",
    "#tqdm\n",
    "from tqdm.notebook import tqdm"
   ]
  },
  {
   "cell_type": "code",
   "execution_count": 30,
   "metadata": {},
   "outputs": [],
   "source": [
    "pd.set_option('display.max_rows', 200)\n",
    "pd.set_option('display.max_columns', 100)"
   ]
  },
  {
   "cell_type": "code",
   "execution_count": 32,
   "metadata": {},
   "outputs": [],
   "source": [
    "from matplotlib import style\n",
    "style.use('fivethirtyeight')"
   ]
  },
  {
   "cell_type": "code",
   "execution_count": 33,
   "metadata": {},
   "outputs": [
    {
     "data": {
      "text/html": [
       "<div>\n",
       "<style scoped>\n",
       "    .dataframe tbody tr th:only-of-type {\n",
       "        vertical-align: middle;\n",
       "    }\n",
       "\n",
       "    .dataframe tbody tr th {\n",
       "        vertical-align: top;\n",
       "    }\n",
       "\n",
       "    .dataframe thead th {\n",
       "        text-align: right;\n",
       "    }\n",
       "</style>\n",
       "<table border=\"1\" class=\"dataframe\">\n",
       "  <thead>\n",
       "    <tr style=\"text-align: right;\">\n",
       "      <th></th>\n",
       "      <th>TSP</th>\n",
       "      <th>SO2</th>\n",
       "      <th>PB</th>\n",
       "      <th>CD</th>\n",
       "    </tr>\n",
       "  </thead>\n",
       "  <tbody>\n",
       "    <tr>\n",
       "      <th>0</th>\n",
       "      <td>9.0</td>\n",
       "      <td>0.02</td>\n",
       "      <td>21.0</td>\n",
       "      <td>0.54</td>\n",
       "    </tr>\n",
       "    <tr>\n",
       "      <th>1</th>\n",
       "      <td>5.0</td>\n",
       "      <td>0.03</td>\n",
       "      <td>20.0</td>\n",
       "      <td>0.53</td>\n",
       "    </tr>\n",
       "  </tbody>\n",
       "</table>\n",
       "</div>"
      ],
      "text/plain": [
       "   TSP   SO2    PB    CD\n",
       "0  9.0  0.02  21.0  0.54\n",
       "1  5.0  0.03  20.0  0.53"
      ]
     },
     "execution_count": 33,
     "metadata": {},
     "output_type": "execute_result"
    }
   ],
   "source": [
    "path_to_data = Path('../../data')\n",
    "df = pd.read_csv(path_to_data / 'prepared_data_prioksk.csv')\n",
    "ELEMENTS = df.columns\n",
    "df.head(2)"
   ]
  },
  {
   "cell_type": "code",
   "execution_count": 34,
   "metadata": {},
   "outputs": [],
   "source": [
    "def code_mean(data, cat_feature, real_feature):\n",
    "    \"\"\"Simple target encoding\"\"\"\n",
    "    return dict(data.groupby(cat_feature)[real_feature].mean())\n",
    "\n",
    "def prepare_data(df, all_targets, lag_start=1, lag_end=15, test_size=0.2, is_split=True):\n",
    "    \n",
    "    start_date = pd.to_datetime('1987-10-01', format='%Y-%m-%d') #дата с которой идет ряд\n",
    "    #так как данные примерно полные были, то заполним таким индексом для создания фичей дальше\n",
    "    #полезно в первую очередь в обучающих целях\n",
    "    df.index = pd.date_range(start=start_date, periods=df.shape[0], freq='D')\n",
    "\n",
    "    test_index = int(len(df)*(1-test_size))\n",
    "    df_lag = None\n",
    "    for col in all_targets:\n",
    "        ts = df[[col]]\n",
    "        for i in range(lag_start, lag_end):\n",
    "            ts[f\"{col}_lag_{i}\"] = ts[col].shift(i)\n",
    "        if df_lag is None:\n",
    "            df_lag = ts\n",
    "        else:\n",
    "            df_lag = df_lag.join(ts)\n",
    "            \n",
    "    extra_cols = list(set(df.columns) - set(df_lag.columns))\n",
    "    df_lag = df_lag.join(df[extra_cols])\n",
    "            \n",
    "    df_lag[\"weekday\"] = df_lag.index.weekday\n",
    "    df_lag['is_weekend'] = df_lag.weekday.isin([5,6])*1\n",
    "    \n",
    "    for col in all_targets:\n",
    "        df_lag[f'{col}_weekday_average'] = list(map(code_mean(df_lag[:test_index], 'weekday', col).get, df_lag.weekday))\n",
    "        \n",
    "    if 'weekday' in df_lag.columns:\n",
    "        df_lag = df_lag.drop([\"weekday\"], axis=1)\n",
    "    df_lag = df_lag.dropna()\n",
    "    \n",
    "    df_lag = df_lag.reset_index(drop=True)\n",
    "    \n",
    "    if is_split:\n",
    "        train = df_lag.loc[:test_index]\n",
    "        test = df_lag.loc[test_index:]\n",
    "        return train, test\n",
    "    else:\n",
    "        return df_lag\n",
    "    \n"
   ]
  },
  {
   "cell_type": "code",
   "execution_count": 35,
   "metadata": {},
   "outputs": [],
   "source": [
    "ALGORITHMS = ['Random Forest', 'Logistic Regression', 'Lightgbm']\n",
    "METRICS = ['accuracy', 'precision', 'recall', 'f1', 'auc']"
   ]
  },
  {
   "cell_type": "code",
   "execution_count": 36,
   "metadata": {},
   "outputs": [],
   "source": [
    "#to keep results of auc for all elements for train and test parts\n",
    "index = ALGORITHMS.copy()\n",
    "multiindex = pd.MultiIndex.from_tuples([(elem, ix) for elem in ELEMENTS for ix in index])\n",
    "stat_auc = pd.DataFrame(index=multiindex, columns=['Train', 'Test'])"
   ]
  },
  {
   "cell_type": "code",
   "execution_count": 37,
   "metadata": {},
   "outputs": [],
   "source": [
    "useful_columns = ['is_weekend']\n",
    "all_targets = list(df.columns)"
   ]
  },
  {
   "cell_type": "code",
   "execution_count": 38,
   "metadata": {},
   "outputs": [],
   "source": [
    "##Isolation Forest##\n",
    "iforest = IsolationForest(n_estimators=300, contamination=0.03, random_state=42, n_jobs=-1)\n",
    "#1 - outliers, 0 - no outlier\n",
    "for col in all_targets:\n",
    "    df[f'{col}_anomalies'] = [1 if x == -1 else 0 for x in iforest.fit_predict(df[[col]])]"
   ]
  },
  {
   "cell_type": "code",
   "execution_count": 39,
   "metadata": {},
   "outputs": [],
   "source": [
    "df = prepare_data(df, all_targets, lag_start=1, lag_end=14, test_size=0.2, is_split=False)"
   ]
  },
  {
   "cell_type": "markdown",
   "metadata": {},
   "source": [
    "### Algorithms"
   ]
  },
  {
   "cell_type": "code",
   "execution_count": 40,
   "metadata": {},
   "outputs": [],
   "source": [
    "def predict_by_random_forest(X_train, y_train, X_test, **kwargs):\n",
    "    '''Return predicted values on train and test by Random Forest'''\n",
    "    \n",
    "    rf = RandomForestClassifier(n_estimators=600, n_jobs=-1, random_state=777, **kwargs\n",
    "                               , max_features='sqrt'\n",
    "                               #, min_samples_split=4\n",
    "                              )\n",
    "    rf.fit(X_train, y_train)\n",
    "    yhat_train = rf.predict(X_train) \n",
    "    yhat_test = rf.predict(X_test)\n",
    "    \n",
    "    return yhat_train, yhat_test\n",
    "\n",
    "def predict_by_logreg(X_train, y_train, X_test, **kwargs):\n",
    "    '''Return predicted values on train and test by Elastic-Net'''\n",
    "    \n",
    "    scaler = StandardScaler()\n",
    "    X_train_sc = scaler.fit_transform(X_train)\n",
    "    X_test_sc = scaler.transform(X_test)\n",
    "    \n",
    "    lr = LogisticRegression(n_jobs=-1, random_state=777, **kwargs)\n",
    "    lr.fit(X_train_sc, y_train)\n",
    "    yhat_train = lr.predict(X_train_sc)\n",
    "    yhat_test = lr.predict(X_test_sc)\n",
    "    \n",
    "    return yhat_train, yhat_test\n",
    "\n",
    "\n",
    "def predict_by_lgbm(X_train, y_train, X_test, **kwargs):\n",
    "    '''Return predicted values on train and test by lgbm'''\n",
    "    \n",
    "    y_train = y_train.values.reshape(1, -1).squeeze()\n",
    "    max_scale_pos_weight = np.bincount(y_train)[0]/np.bincount(y_train)[1]\n",
    "    \n",
    "    params = {\n",
    "        'n_estimators': 1000\n",
    "        , 'learning_rate': 0.05\n",
    "        , 'max_leaves': 31\n",
    "        , 'max_depth': -1\n",
    "        , 'subsample': 0.8\n",
    "        , 'colsample_bytree': 0.9\n",
    "        , 'scale_pos_weight': max_scale_pos_weight\n",
    "        \n",
    "        , 'n_jobs': -1\n",
    "        , 'random_state': 777\n",
    "    }\n",
    "    \n",
    "    model = LGBMClassifier(**params)\n",
    "    model.fit(X_train, y_train, eval_metric=['auc'], verbose=False,\n",
    "             eval_set=[(X_test, y_test)], early_stopping_rounds=100)\n",
    "    \n",
    "    \n",
    "    pred_test = model.predict_proba(X_test)[:, 1]\n",
    "    pred_train = model.predict_proba(X_train)[:, 1]\n",
    "    \n",
    "    return pred_train, pred_test"
   ]
  },
  {
   "cell_type": "markdown",
   "metadata": {},
   "source": [
    "### TSP"
   ]
  },
  {
   "cell_type": "code",
   "execution_count": 41,
   "metadata": {},
   "outputs": [],
   "source": [
    "target_name = 'TSP_anomalies'\n",
    "\n",
    "#to take lag features\n",
    "target_cols = [name for name in df.columns if name.startswith(target_name.split('_')[0])]\n",
    "#take lag features and some other\n",
    "train_columns = target_cols + all_targets + useful_columns\n",
    "useless_cols = ([target_name]\n",
    "#+ [f'{target_name.split(\"_\")[0]}_weekday_average', 'is_weekend']\n",
    "               )\n",
    "train_columns = list(set(train_columns) - set(useless_cols))\n",
    "\n",
    "#если захотеть просто так поделить выборку случайно, хотя так некорректно (временноя ряд же :) )\n",
    "#train, test = train_test_split(df, test_size=0.2, random_state=54)\n",
    "#X_train, X_test = train.drop([target_name], axis=1), test.drop([target_name], axis=1)\n",
    "#y_train, y_test = train[target_name], test[target_name]\n",
    "\n",
    "#X_train = X_train[train_columns]\n",
    "#X_test = X_test[train_columns]\n",
    "\n",
    "#pred_train_rf, pred_test_rf = predict_by_random_forest(X_train=X_train, y_train=y_train, X_test=X_test)\n",
    "#pred_train_lr, pred_test_lr = predict_by_logreg(X_train=X_train, y_train=y_train, X_test=X_test)\n",
    "#pred_train_lgb, pred_test_lgb = predict_by_lgbm(X_train=X_train, y_train=y_train, X_test=X_test)"
   ]
  },
  {
   "cell_type": "code",
   "execution_count": 42,
   "metadata": {},
   "outputs": [
    {
     "data": {
      "application/vnd.jupyter.widget-view+json": {
       "model_id": "7b00ee30f9ad4d25b00aa0006db9312a",
       "version_major": 2,
       "version_minor": 0
      },
      "text/plain": [
       "HBox(children=(FloatProgress(value=0.0, max=5.0), HTML(value='')))"
      ]
     },
     "metadata": {},
     "output_type": "display_data"
    },
    {
     "name": "stdout",
     "output_type": "stream",
     "text": [
      "\n"
     ]
    }
   ],
   "source": [
    "tcsv = TimeSeriesSplit(n_splits=5)\n",
    "#get best algorithms\n",
    "auc_l = {algo : {'Train': [], 'Test': []} for algo in ALGORITHMS}\n",
    "\n",
    "for train_index, test_index in tqdm(tcsv.split(df), total=tcsv.n_splits):\n",
    "    train, test = df.iloc[train_index], df.iloc[test_index]\n",
    "    X_train, X_test = train.drop([target_name], axis=1), test.drop([target_name], axis=1)\n",
    "    y_train, y_test = train[[target_name]], test[[target_name]]\n",
    "    \n",
    "    algo = 'Random Forest'\n",
    "    pred_train, pred_test = predict_by_random_forest(X_train=X_train, y_train=y_train, X_test=X_test)\n",
    "    auc_l[algo]['Train'].append(roc_auc_score(y_train, pred_train))\n",
    "    auc_l[algo]['Test'].append(roc_auc_score(y_test, pred_test))\n",
    "    \n",
    "    algo = 'Logistic Regression'\n",
    "    pred_train, pred_test = predict_by_logreg(X_train=X_train, y_train=y_train, X_test=X_test)\n",
    "    auc_l[algo]['Train'].append(roc_auc_score(y_train, pred_train))\n",
    "    auc_l[algo]['Test'].append(roc_auc_score(y_test, pred_test))\n",
    "\n",
    "    algo = 'Lightgbm'\n",
    "    pred_train, pred_test = predict_by_lgbm(X_train=X_train, y_train=y_train, X_test=X_test)\n",
    "    auc_l[algo]['Train'].append(roc_auc_score(y_train, pred_train))\n",
    "    auc_l[algo]['Test'].append(roc_auc_score(y_test, pred_test))"
   ]
  },
  {
   "cell_type": "code",
   "execution_count": 43,
   "metadata": {},
   "outputs": [],
   "source": [
    "#аггрегируем метрику и записываем в датафрейм\n",
    "tmp = {}\n",
    "for algo, sample in auc_l.items():\n",
    "    tmp[algo] = {}\n",
    "    for part, val in sample.items():\n",
    "        tmp[algo][part] = np.mean(val)\n",
    "auc_l = tmp.copy()\n",
    "for algo in ALGORITHMS:\n",
    "    stat_auc.loc[(target_name.split('_')[0], algo), 'Train'] = auc_l[algo]['Train']\n",
    "    stat_auc.loc[(target_name.split('_')[0], algo), 'Test'] = auc_l[algo]['Test']"
   ]
  },
  {
   "cell_type": "code",
   "execution_count": 44,
   "metadata": {},
   "outputs": [
    {
     "data": {
      "text/html": [
       "<div>\n",
       "<style scoped>\n",
       "    .dataframe tbody tr th:only-of-type {\n",
       "        vertical-align: middle;\n",
       "    }\n",
       "\n",
       "    .dataframe tbody tr th {\n",
       "        vertical-align: top;\n",
       "    }\n",
       "\n",
       "    .dataframe thead th {\n",
       "        text-align: right;\n",
       "    }\n",
       "</style>\n",
       "<table border=\"1\" class=\"dataframe\">\n",
       "  <thead>\n",
       "    <tr style=\"text-align: right;\">\n",
       "      <th></th>\n",
       "      <th>Train</th>\n",
       "      <th>Test</th>\n",
       "    </tr>\n",
       "  </thead>\n",
       "  <tbody>\n",
       "    <tr>\n",
       "      <th>Random Forest</th>\n",
       "      <td>1</td>\n",
       "      <td>0.686007</td>\n",
       "    </tr>\n",
       "    <tr>\n",
       "      <th>Logistic Regression</th>\n",
       "      <td>0.946272</td>\n",
       "      <td>0.711946</td>\n",
       "    </tr>\n",
       "    <tr>\n",
       "      <th>Lightgbm</th>\n",
       "      <td>0.994864</td>\n",
       "      <td>0.95285</td>\n",
       "    </tr>\n",
       "  </tbody>\n",
       "</table>\n",
       "</div>"
      ],
      "text/plain": [
       "                        Train      Test\n",
       "Random Forest               1  0.686007\n",
       "Logistic Regression  0.946272  0.711946\n",
       "Lightgbm             0.994864   0.95285"
      ]
     },
     "execution_count": 44,
     "metadata": {},
     "output_type": "execute_result"
    }
   ],
   "source": [
    "stat_auc.loc[(target_name.split('_')[0])]"
   ]
  },
  {
   "cell_type": "markdown",
   "metadata": {},
   "source": [
    "### SO2"
   ]
  },
  {
   "cell_type": "code",
   "execution_count": 45,
   "metadata": {},
   "outputs": [],
   "source": [
    "target_name = 'SO2_anomalies'\n",
    "\n",
    "#to take lag features\n",
    "target_cols = [name for name in df.columns if name.startswith(target_name.split('_')[0])]\n",
    "#take lag features and some other\n",
    "train_columns = target_cols + all_targets + useful_columns\n",
    "useless_cols = ([target_name]\n",
    "#+ [f'{target_name.split(\"_\")[0]}_weekday_average', 'is_weekend']\n",
    "               )\n",
    "train_columns = list(set(train_columns) - set(useless_cols))"
   ]
  },
  {
   "cell_type": "code",
   "execution_count": 46,
   "metadata": {},
   "outputs": [
    {
     "data": {
      "application/vnd.jupyter.widget-view+json": {
       "model_id": "6089d3b2089346bf85d824963fcbf1f3",
       "version_major": 2,
       "version_minor": 0
      },
      "text/plain": [
       "HBox(children=(FloatProgress(value=0.0, max=5.0), HTML(value='')))"
      ]
     },
     "metadata": {},
     "output_type": "display_data"
    },
    {
     "name": "stdout",
     "output_type": "stream",
     "text": [
      "\n"
     ]
    }
   ],
   "source": [
    "tcsv = TimeSeriesSplit(n_splits=5)\n",
    "#get best algorithms\n",
    "auc_l = {algo : {'Train': [], 'Test': []} for algo in ALGORITHMS}\n",
    "\n",
    "for train_index, test_index in tqdm(tcsv.split(df), total=tcsv.n_splits):\n",
    "    train, test = df.iloc[train_index], df.iloc[test_index]\n",
    "    X_train, X_test = train.drop([target_name], axis=1), test.drop([target_name], axis=1)\n",
    "    y_train, y_test = train[[target_name]], test[[target_name]]\n",
    "    \n",
    "    algo = 'Random Forest'\n",
    "    pred_train, pred_test = predict_by_random_forest(X_train=X_train, y_train=y_train, X_test=X_test)\n",
    "    auc_l[algo]['Train'].append(roc_auc_score(y_train, pred_train))\n",
    "    auc_l[algo]['Test'].append(roc_auc_score(y_test, pred_test))\n",
    "    \n",
    "    algo = 'Logistic Regression'\n",
    "    pred_train, pred_test = predict_by_logreg(X_train=X_train, y_train=y_train, X_test=X_test)\n",
    "    auc_l[algo]['Train'].append(roc_auc_score(y_train, pred_train))\n",
    "    auc_l[algo]['Test'].append(roc_auc_score(y_test, pred_test))\n",
    "\n",
    "    algo = 'Lightgbm'\n",
    "    pred_train, pred_test = predict_by_lgbm(X_train=X_train, y_train=y_train, X_test=X_test)\n",
    "    auc_l[algo]['Train'].append(roc_auc_score(y_train, pred_train))\n",
    "    auc_l[algo]['Test'].append(roc_auc_score(y_test, pred_test))"
   ]
  },
  {
   "cell_type": "code",
   "execution_count": 47,
   "metadata": {},
   "outputs": [],
   "source": [
    "#аггрегируем метрику и записываем в датафрейм\n",
    "tmp = {}\n",
    "for algo, sample in auc_l.items():\n",
    "    tmp[algo] = {}\n",
    "    for part, val in sample.items():\n",
    "        tmp[algo][part] = np.mean(val)\n",
    "auc_l = tmp.copy()\n",
    "for algo in ALGORITHMS:\n",
    "    stat_auc.loc[(target_name.split('_')[0], algo), 'Train'] = auc_l[algo]['Train']\n",
    "    stat_auc.loc[(target_name.split('_')[0], algo), 'Test'] = auc_l[algo]['Test']"
   ]
  },
  {
   "cell_type": "code",
   "execution_count": 48,
   "metadata": {},
   "outputs": [
    {
     "data": {
      "text/html": [
       "<div>\n",
       "<style scoped>\n",
       "    .dataframe tbody tr th:only-of-type {\n",
       "        vertical-align: middle;\n",
       "    }\n",
       "\n",
       "    .dataframe tbody tr th {\n",
       "        vertical-align: top;\n",
       "    }\n",
       "\n",
       "    .dataframe thead th {\n",
       "        text-align: right;\n",
       "    }\n",
       "</style>\n",
       "<table border=\"1\" class=\"dataframe\">\n",
       "  <thead>\n",
       "    <tr style=\"text-align: right;\">\n",
       "      <th></th>\n",
       "      <th>Train</th>\n",
       "      <th>Test</th>\n",
       "    </tr>\n",
       "  </thead>\n",
       "  <tbody>\n",
       "    <tr>\n",
       "      <th>Random Forest</th>\n",
       "      <td>1</td>\n",
       "      <td>0.785</td>\n",
       "    </tr>\n",
       "    <tr>\n",
       "      <th>Logistic Regression</th>\n",
       "      <td>0.997674</td>\n",
       "      <td>0.808846</td>\n",
       "    </tr>\n",
       "    <tr>\n",
       "      <th>Lightgbm</th>\n",
       "      <td>0.998622</td>\n",
       "      <td>0.988542</td>\n",
       "    </tr>\n",
       "  </tbody>\n",
       "</table>\n",
       "</div>"
      ],
      "text/plain": [
       "                        Train      Test\n",
       "Random Forest               1     0.785\n",
       "Logistic Regression  0.997674  0.808846\n",
       "Lightgbm             0.998622  0.988542"
      ]
     },
     "execution_count": 48,
     "metadata": {},
     "output_type": "execute_result"
    }
   ],
   "source": [
    "stat_auc.loc[(target_name.split('_')[0])]"
   ]
  },
  {
   "cell_type": "markdown",
   "metadata": {},
   "source": [
    "### PB"
   ]
  },
  {
   "cell_type": "code",
   "execution_count": 49,
   "metadata": {},
   "outputs": [],
   "source": [
    "target_name = 'PB_anomalies'\n",
    "\n",
    "#to take lag features\n",
    "target_cols = [name for name in df.columns if name.startswith(target_name.split('_')[0])]\n",
    "#take lag features and some other\n",
    "train_columns = target_cols + all_targets + useful_columns\n",
    "useless_cols = ([target_name]\n",
    "#+ [f'{target_name.split(\"_\")[0]}_weekday_average', 'is_weekend']\n",
    "               )\n",
    "train_columns = list(set(train_columns) - set(useless_cols))"
   ]
  },
  {
   "cell_type": "code",
   "execution_count": 50,
   "metadata": {},
   "outputs": [
    {
     "data": {
      "application/vnd.jupyter.widget-view+json": {
       "model_id": "1a069a4f473a487ea6715a68ed68d07c",
       "version_major": 2,
       "version_minor": 0
      },
      "text/plain": [
       "HBox(children=(FloatProgress(value=0.0, max=5.0), HTML(value='')))"
      ]
     },
     "metadata": {},
     "output_type": "display_data"
    },
    {
     "name": "stdout",
     "output_type": "stream",
     "text": [
      "\n"
     ]
    }
   ],
   "source": [
    "tcsv = TimeSeriesSplit(n_splits=5)\n",
    "#get best algorithms\n",
    "auc_l = {algo : {'Train': [], 'Test': []} for algo in ALGORITHMS}\n",
    "\n",
    "for train_index, test_index in tqdm(tcsv.split(df), total=tcsv.n_splits):\n",
    "    train, test = df.iloc[train_index], df.iloc[test_index]\n",
    "    X_train, X_test = train.drop([target_name], axis=1), test.drop([target_name], axis=1)\n",
    "    y_train, y_test = train[[target_name]], test[[target_name]]\n",
    "    \n",
    "    VAL = 0.5\n",
    "    algo = 'Random Forest'\n",
    "    pred_train, pred_test = predict_by_random_forest(X_train=X_train, y_train=y_train, X_test=X_test)\n",
    "    try:\n",
    "        auc_l[algo]['Train'].append(roc_auc_score(y_train, pred_train))\n",
    "    except:\n",
    "        auc_l[algo]['Train'].append(VAL)\n",
    "    \n",
    "    try:\n",
    "        auc_l[algo]['Test'].append(roc_auc_score(y_test, pred_test))\n",
    "    except:\n",
    "        auc_l[algo]['Test'].append(VAL)\n",
    "    \n",
    "    algo = 'Logistic Regression'\n",
    "    pred_train, pred_test = predict_by_logreg(X_train=X_train, y_train=y_train, X_test=X_test)\n",
    "    \n",
    "    try:\n",
    "        auc_l[algo]['Train'].append(roc_auc_score(y_train, pred_train))\n",
    "    except:\n",
    "        auc_l[algo]['Train'].append(VAL)\n",
    "    \n",
    "    try:\n",
    "        auc_l[algo]['Test'].append(roc_auc_score(y_test, pred_test))\n",
    "    except:\n",
    "        auc_l[algo]['Test'].append(VAL)\n",
    "\n",
    "    algo = 'Lightgbm'\n",
    "    pred_train, pred_test = predict_by_lgbm(X_train=X_train, y_train=y_train, X_test=X_test)\n",
    "    try:\n",
    "        auc_l[algo]['Train'].append(roc_auc_score(y_train, pred_train))\n",
    "    except:\n",
    "        auc_l[algo]['Train'].append(VAL)\n",
    "    \n",
    "    try:\n",
    "        auc_l[algo]['Test'].append(roc_auc_score(y_test, pred_test))\n",
    "    except:\n",
    "        auc_l[algo]['Test'].append(VAL)"
   ]
  },
  {
   "cell_type": "code",
   "execution_count": 51,
   "metadata": {},
   "outputs": [],
   "source": [
    "#аггрегируем метрику и записываем в датафрейм\n",
    "tmp = {}\n",
    "for algo, sample in auc_l.items():\n",
    "    tmp[algo] = {}\n",
    "    for part, val in sample.items():\n",
    "        tmp[algo][part] = np.mean(val)\n",
    "auc_l = tmp.copy()\n",
    "for algo in ALGORITHMS:\n",
    "    stat_auc.loc[(target_name.split('_')[0], algo), 'Train'] = auc_l[algo]['Train']\n",
    "    stat_auc.loc[(target_name.split('_')[0], algo), 'Test'] = auc_l[algo]['Test']"
   ]
  },
  {
   "cell_type": "code",
   "execution_count": 52,
   "metadata": {},
   "outputs": [
    {
     "data": {
      "text/html": [
       "<div>\n",
       "<style scoped>\n",
       "    .dataframe tbody tr th:only-of-type {\n",
       "        vertical-align: middle;\n",
       "    }\n",
       "\n",
       "    .dataframe tbody tr th {\n",
       "        vertical-align: top;\n",
       "    }\n",
       "\n",
       "    .dataframe thead th {\n",
       "        text-align: right;\n",
       "    }\n",
       "</style>\n",
       "<table border=\"1\" class=\"dataframe\">\n",
       "  <thead>\n",
       "    <tr style=\"text-align: right;\">\n",
       "      <th></th>\n",
       "      <th>Train</th>\n",
       "      <th>Test</th>\n",
       "    </tr>\n",
       "  </thead>\n",
       "  <tbody>\n",
       "    <tr>\n",
       "      <th>Random Forest</th>\n",
       "      <td>1</td>\n",
       "      <td>0.65</td>\n",
       "    </tr>\n",
       "    <tr>\n",
       "      <th>Logistic Regression</th>\n",
       "      <td>0.995652</td>\n",
       "      <td>0.533333</td>\n",
       "    </tr>\n",
       "    <tr>\n",
       "      <th>Lightgbm</th>\n",
       "      <td>0.999896</td>\n",
       "      <td>0.786176</td>\n",
       "    </tr>\n",
       "  </tbody>\n",
       "</table>\n",
       "</div>"
      ],
      "text/plain": [
       "                        Train      Test\n",
       "Random Forest               1      0.65\n",
       "Logistic Regression  0.995652  0.533333\n",
       "Lightgbm             0.999896  0.786176"
      ]
     },
     "execution_count": 52,
     "metadata": {},
     "output_type": "execute_result"
    }
   ],
   "source": [
    "stat_auc.loc[(target_name.split('_')[0])]"
   ]
  },
  {
   "cell_type": "markdown",
   "metadata": {},
   "source": [
    "### CD"
   ]
  },
  {
   "cell_type": "code",
   "execution_count": 53,
   "metadata": {},
   "outputs": [],
   "source": [
    "target_name = 'CD_anomalies'\n",
    "\n",
    "#to take lag features\n",
    "target_cols = [name for name in df.columns if name.startswith(target_name.split('_')[0])]\n",
    "#take lag features and some other\n",
    "train_columns = target_cols + all_targets + useful_columns\n",
    "useless_cols = ([target_name]\n",
    "#+ [f'{target_name.split(\"_\")[0]}_weekday_average', 'is_weekend']\n",
    "               )\n",
    "train_columns = list(set(train_columns) - set(useless_cols))"
   ]
  },
  {
   "cell_type": "code",
   "execution_count": 54,
   "metadata": {},
   "outputs": [
    {
     "data": {
      "application/vnd.jupyter.widget-view+json": {
       "model_id": "95245bd89147492794f62bcbaff96750",
       "version_major": 2,
       "version_minor": 0
      },
      "text/plain": [
       "HBox(children=(FloatProgress(value=0.0, max=10.0), HTML(value='')))"
      ]
     },
     "metadata": {},
     "output_type": "display_data"
    },
    {
     "name": "stdout",
     "output_type": "stream",
     "text": [
      "\n"
     ]
    }
   ],
   "source": [
    "tcsv = TimeSeriesSplit(n_splits=10) ######\n",
    "#get best algorithms\n",
    "auc_l = {algo : {'Train': [], 'Test': []} for algo in ALGORITHMS}\n",
    "\n",
    "for train_index, test_index in tqdm(tcsv.split(df), total=tcsv.n_splits):\n",
    "    train, test = df.iloc[train_index], df.iloc[test_index]\n",
    "    X_train, X_test = train.drop([target_name], axis=1), test.drop([target_name], axis=1)\n",
    "    y_train, y_test = train[[target_name]], test[[target_name]]\n",
    "    \n",
    "    algo = 'Random Forest'\n",
    "    pred_train, pred_test = predict_by_random_forest(X_train=X_train, y_train=y_train, X_test=X_test)\n",
    "    auc_l[algo]['Train'].append(roc_auc_score(y_train, pred_train))\n",
    "    auc_l[algo]['Test'].append(roc_auc_score(y_test, pred_test))\n",
    "    \n",
    "    algo = 'Logistic Regression'\n",
    "    pred_train, pred_test = predict_by_logreg(X_train=X_train, y_train=y_train, X_test=X_test)\n",
    "    auc_l[algo]['Train'].append(roc_auc_score(y_train, pred_train))\n",
    "    auc_l[algo]['Test'].append(roc_auc_score(y_test, pred_test))\n",
    "\n",
    "    algo = 'Lightgbm'\n",
    "    pred_train, pred_test = predict_by_lgbm(X_train=X_train, y_train=y_train, X_test=X_test)\n",
    "    auc_l[algo]['Train'].append(roc_auc_score(y_train, pred_train))\n",
    "    auc_l[algo]['Test'].append(roc_auc_score(y_test, pred_test))"
   ]
  },
  {
   "cell_type": "code",
   "execution_count": 55,
   "metadata": {},
   "outputs": [],
   "source": [
    "#аггрегируем метрику и записываем в датафрейм\n",
    "tmp = {}\n",
    "for algo, sample in auc_l.items():\n",
    "    tmp[algo] = {}\n",
    "    for part, val in sample.items():\n",
    "        tmp[algo][part] = np.mean(val)\n",
    "auc_l = tmp.copy()\n",
    "for algo in ALGORITHMS:\n",
    "    stat_auc.loc[(target_name.split('_')[0], algo), 'Train'] = auc_l[algo]['Train']\n",
    "    stat_auc.loc[(target_name.split('_')[0], algo), 'Test'] = auc_l[algo]['Test']"
   ]
  },
  {
   "cell_type": "code",
   "execution_count": 56,
   "metadata": {},
   "outputs": [
    {
     "data": {
      "text/html": [
       "<div>\n",
       "<style scoped>\n",
       "    .dataframe tbody tr th:only-of-type {\n",
       "        vertical-align: middle;\n",
       "    }\n",
       "\n",
       "    .dataframe tbody tr th {\n",
       "        vertical-align: top;\n",
       "    }\n",
       "\n",
       "    .dataframe thead th {\n",
       "        text-align: right;\n",
       "    }\n",
       "</style>\n",
       "<table border=\"1\" class=\"dataframe\">\n",
       "  <thead>\n",
       "    <tr style=\"text-align: right;\">\n",
       "      <th></th>\n",
       "      <th>Train</th>\n",
       "      <th>Test</th>\n",
       "    </tr>\n",
       "  </thead>\n",
       "  <tbody>\n",
       "    <tr>\n",
       "      <th>Random Forest</th>\n",
       "      <td>1</td>\n",
       "      <td>0.875</td>\n",
       "    </tr>\n",
       "    <tr>\n",
       "      <th>Logistic Regression</th>\n",
       "      <td>1</td>\n",
       "      <td>0.781944</td>\n",
       "    </tr>\n",
       "    <tr>\n",
       "      <th>Lightgbm</th>\n",
       "      <td>0.99989</td>\n",
       "      <td>0.999764</td>\n",
       "    </tr>\n",
       "  </tbody>\n",
       "</table>\n",
       "</div>"
      ],
      "text/plain": [
       "                       Train      Test\n",
       "Random Forest              1     0.875\n",
       "Logistic Regression        1  0.781944\n",
       "Lightgbm             0.99989  0.999764"
      ]
     },
     "execution_count": 56,
     "metadata": {},
     "output_type": "execute_result"
    }
   ],
   "source": [
    "stat_auc.loc[(target_name.split('_')[0])]"
   ]
  },
  {
   "cell_type": "markdown",
   "metadata": {},
   "source": [
    "### Результат"
   ]
  },
  {
   "cell_type": "code",
   "execution_count": 57,
   "metadata": {},
   "outputs": [
    {
     "data": {
      "text/html": [
       "<div>\n",
       "<style scoped>\n",
       "    .dataframe tbody tr th:only-of-type {\n",
       "        vertical-align: middle;\n",
       "    }\n",
       "\n",
       "    .dataframe tbody tr th {\n",
       "        vertical-align: top;\n",
       "    }\n",
       "\n",
       "    .dataframe thead th {\n",
       "        text-align: right;\n",
       "    }\n",
       "</style>\n",
       "<table border=\"1\" class=\"dataframe\">\n",
       "  <thead>\n",
       "    <tr style=\"text-align: right;\">\n",
       "      <th></th>\n",
       "      <th></th>\n",
       "      <th>Train</th>\n",
       "      <th>Test</th>\n",
       "    </tr>\n",
       "  </thead>\n",
       "  <tbody>\n",
       "    <tr>\n",
       "      <th rowspan=\"3\" valign=\"top\">TSP</th>\n",
       "      <th>Random Forest</th>\n",
       "      <td>1</td>\n",
       "      <td>0.686007</td>\n",
       "    </tr>\n",
       "    <tr>\n",
       "      <th>Logistic Regression</th>\n",
       "      <td>0.946272</td>\n",
       "      <td>0.711946</td>\n",
       "    </tr>\n",
       "    <tr>\n",
       "      <th>Lightgbm</th>\n",
       "      <td>0.994864</td>\n",
       "      <td>0.95285</td>\n",
       "    </tr>\n",
       "    <tr>\n",
       "      <th rowspan=\"3\" valign=\"top\">SO2</th>\n",
       "      <th>Random Forest</th>\n",
       "      <td>1</td>\n",
       "      <td>0.785</td>\n",
       "    </tr>\n",
       "    <tr>\n",
       "      <th>Logistic Regression</th>\n",
       "      <td>0.997674</td>\n",
       "      <td>0.808846</td>\n",
       "    </tr>\n",
       "    <tr>\n",
       "      <th>Lightgbm</th>\n",
       "      <td>0.998622</td>\n",
       "      <td>0.988542</td>\n",
       "    </tr>\n",
       "    <tr>\n",
       "      <th rowspan=\"3\" valign=\"top\">PB</th>\n",
       "      <th>Random Forest</th>\n",
       "      <td>1</td>\n",
       "      <td>0.65</td>\n",
       "    </tr>\n",
       "    <tr>\n",
       "      <th>Logistic Regression</th>\n",
       "      <td>0.995652</td>\n",
       "      <td>0.533333</td>\n",
       "    </tr>\n",
       "    <tr>\n",
       "      <th>Lightgbm</th>\n",
       "      <td>0.999896</td>\n",
       "      <td>0.786176</td>\n",
       "    </tr>\n",
       "    <tr>\n",
       "      <th rowspan=\"3\" valign=\"top\">CD</th>\n",
       "      <th>Random Forest</th>\n",
       "      <td>1</td>\n",
       "      <td>0.875</td>\n",
       "    </tr>\n",
       "    <tr>\n",
       "      <th>Logistic Regression</th>\n",
       "      <td>1</td>\n",
       "      <td>0.781944</td>\n",
       "    </tr>\n",
       "    <tr>\n",
       "      <th>Lightgbm</th>\n",
       "      <td>0.99989</td>\n",
       "      <td>0.999764</td>\n",
       "    </tr>\n",
       "  </tbody>\n",
       "</table>\n",
       "</div>"
      ],
      "text/plain": [
       "                            Train      Test\n",
       "TSP Random Forest               1  0.686007\n",
       "    Logistic Regression  0.946272  0.711946\n",
       "    Lightgbm             0.994864   0.95285\n",
       "SO2 Random Forest               1     0.785\n",
       "    Logistic Regression  0.997674  0.808846\n",
       "    Lightgbm             0.998622  0.988542\n",
       "PB  Random Forest               1      0.65\n",
       "    Logistic Regression  0.995652  0.533333\n",
       "    Lightgbm             0.999896  0.786176\n",
       "CD  Random Forest               1     0.875\n",
       "    Logistic Regression         1  0.781944\n",
       "    Lightgbm              0.99989  0.999764"
      ]
     },
     "execution_count": 57,
     "metadata": {},
     "output_type": "execute_result"
    }
   ],
   "source": [
    "stat_auc"
   ]
  },
  {
   "cell_type": "code",
   "execution_count": 58,
   "metadata": {},
   "outputs": [
    {
     "data": {
      "text/html": [
       "<div>\n",
       "<style scoped>\n",
       "    .dataframe tbody tr th:only-of-type {\n",
       "        vertical-align: middle;\n",
       "    }\n",
       "\n",
       "    .dataframe tbody tr th {\n",
       "        vertical-align: top;\n",
       "    }\n",
       "\n",
       "    .dataframe thead tr th {\n",
       "        text-align: left;\n",
       "    }\n",
       "</style>\n",
       "<table border=\"1\" class=\"dataframe\">\n",
       "  <thead>\n",
       "    <tr>\n",
       "      <th></th>\n",
       "      <th colspan=\"3\" halign=\"left\">TSP</th>\n",
       "      <th colspan=\"3\" halign=\"left\">SO2</th>\n",
       "      <th colspan=\"3\" halign=\"left\">PB</th>\n",
       "      <th colspan=\"3\" halign=\"left\">CD</th>\n",
       "    </tr>\n",
       "    <tr>\n",
       "      <th></th>\n",
       "      <th>Random Forest</th>\n",
       "      <th>Logistic Regression</th>\n",
       "      <th>Lightgbm</th>\n",
       "      <th>Random Forest</th>\n",
       "      <th>Logistic Regression</th>\n",
       "      <th>Lightgbm</th>\n",
       "      <th>Random Forest</th>\n",
       "      <th>Logistic Regression</th>\n",
       "      <th>Lightgbm</th>\n",
       "      <th>Random Forest</th>\n",
       "      <th>Logistic Regression</th>\n",
       "      <th>Lightgbm</th>\n",
       "    </tr>\n",
       "  </thead>\n",
       "  <tbody>\n",
       "    <tr>\n",
       "      <th>Train</th>\n",
       "      <td>1</td>\n",
       "      <td>0.946272</td>\n",
       "      <td>0.994864</td>\n",
       "      <td>1</td>\n",
       "      <td>0.997674</td>\n",
       "      <td>0.998622</td>\n",
       "      <td>1</td>\n",
       "      <td>0.995652</td>\n",
       "      <td>0.999896</td>\n",
       "      <td>1</td>\n",
       "      <td>1</td>\n",
       "      <td>0.99989</td>\n",
       "    </tr>\n",
       "    <tr>\n",
       "      <th>Test</th>\n",
       "      <td>0.686007</td>\n",
       "      <td>0.711946</td>\n",
       "      <td>0.95285</td>\n",
       "      <td>0.785</td>\n",
       "      <td>0.808846</td>\n",
       "      <td>0.988542</td>\n",
       "      <td>0.65</td>\n",
       "      <td>0.533333</td>\n",
       "      <td>0.786176</td>\n",
       "      <td>0.875</td>\n",
       "      <td>0.781944</td>\n",
       "      <td>0.999764</td>\n",
       "    </tr>\n",
       "  </tbody>\n",
       "</table>\n",
       "</div>"
      ],
      "text/plain": [
       "                TSP                                         SO2  \\\n",
       "      Random Forest Logistic Regression  Lightgbm Random Forest   \n",
       "Train             1            0.946272  0.994864             1   \n",
       "Test       0.686007            0.711946   0.95285         0.785   \n",
       "\n",
       "                                               PB                      \\\n",
       "      Logistic Regression  Lightgbm Random Forest Logistic Regression   \n",
       "Train            0.997674  0.998622             1            0.995652   \n",
       "Test             0.808846  0.988542          0.65            0.533333   \n",
       "\n",
       "                           CD                                \n",
       "       Lightgbm Random Forest Logistic Regression  Lightgbm  \n",
       "Train  0.999896             1                   1   0.99989  \n",
       "Test   0.786176         0.875            0.781944  0.999764  "
      ]
     },
     "execution_count": 58,
     "metadata": {},
     "output_type": "execute_result"
    }
   ],
   "source": [
    "stat_auc.T"
   ]
  },
  {
   "cell_type": "code",
   "execution_count": null,
   "metadata": {},
   "outputs": [],
   "source": []
  }
 ],
 "metadata": {
  "kernelspec": {
   "display_name": "Python 3",
   "language": "python",
   "name": "python3"
  },
  "language_info": {
   "codemirror_mode": {
    "name": "ipython",
    "version": 3
   },
   "file_extension": ".py",
   "mimetype": "text/x-python",
   "name": "python",
   "nbconvert_exporter": "python",
   "pygments_lexer": "ipython3",
   "version": "3.7.6"
  }
 },
 "nbformat": 4,
 "nbformat_minor": 4
}
