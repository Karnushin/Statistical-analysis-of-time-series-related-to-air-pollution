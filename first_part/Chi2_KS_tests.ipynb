{
 "cells": [
  {
   "cell_type": "code",
   "execution_count": 551,
   "metadata": {},
   "outputs": [],
   "source": [
    "import pandas as pd\n",
    "import matplotlib.pyplot as plt\n",
    "import datetime\n",
    "import matplotlib.dates as mdates\n",
    "import numpy as np\n",
    "from collections import OrderedDict, defaultdict\n",
    "import scipy.stats as sts\n",
    "from scipy.stats import ks_2samp, kstest, gamma"
   ]
  },
  {
   "cell_type": "code",
   "execution_count": 543,
   "metadata": {},
   "outputs": [],
   "source": [
    "df = pd.read_excel(r'Prioksk_Air_in.xlsx')\n",
    "df.fillna(value=np.nan, inplace=True)\n",
    "df.drop(df.loc[:,'NO':].columns, axis=1, inplace=True)\n",
    "df.drop(df.loc[:,'ST':'DU'].columns, axis=1, inplace=True)\n",
    "df.dropna(subset=['YY','MM', 'DD'], inplace=True)\n",
    "#приведем столбцы с датой к int, сбросим индексы ввиду манипуляций с удалениями, чтобы навести порядок\n",
    "df.loc[:, 'YY':'DD'] = df.loc[:, 'YY':'DD'].astype(int)\n",
    "df.reset_index(drop=True, inplace=True)\n",
    "for i, x in enumerate(df['YY']):\n",
    "    df.loc[i, 'YY'] = 1900 + x if x >= 83 else 2000 + x\n",
    "date_column, index_error = [], []\n",
    "for i in range(df.shape[0]):\n",
    "    try:\n",
    "        date_column.append(datetime.date(df.iloc[i,0],df.iloc[i,1],df.iloc[i,2]))\n",
    "    except ValueError:\n",
    "        index_error.append(i)\n",
    "df.drop(index_error, axis = 0, inplace=True)\n",
    "df.reset_index(drop=True, inplace=True)\n",
    "#приведение необходимых параметров к типу числовым типам(избавление от типа object)\n",
    "df = df.apply(pd.to_numeric, errors='coerce')\n",
    "df.insert(0, 'Time', date_column)\n",
    "winter_data = df[df['MM'].isin([12, 1, 2])].reset_index(drop=True)\n",
    "spring_data = df[df['MM'].isin([3, 4, 5])].reset_index(drop=True)\n",
    "summer_data = df[df['MM'].isin([6, 7, 8])].reset_index(drop=True)\n",
    "autumn_data = df[df['MM'].isin([9, 10, 11])].reset_index(drop=True)\n",
    "data_total = df"
   ]
  },
  {
   "cell_type": "code",
   "execution_count": 544,
   "metadata": {},
   "outputs": [],
   "source": [
    "def ExtractNotNullData(data, element):\n",
    "    notnulldata = OrderedDict()\n",
    "    for i in range(data.shape[0]):\n",
    "        if np.isnan(data.loc[i, element]) == False:\n",
    "            notnulldata[data.loc[i,'Time']] = data.loc[i, element] \n",
    "    return notnulldata\n",
    "\n",
    "def CreateDataBySeasons(element):\n",
    "    return {'all':ExtractNotNullData(data_total, element), 'winter':ExtractNotNullData(winter_data, element),\n",
    "           'spring':ExtractNotNullData(spring_data,element), 'summer':ExtractNotNullData(summer_data, element),\n",
    "           'autumn':ExtractNotNullData(autumn_data, element)}\n",
    "\n",
    "def ExtractValues(data):\n",
    "    return {'all':np.array(list(data['all'].values())),'winter':np.array(list(data['winter'].values())),\n",
    "           'spring':np.array(list(data['spring'].values())), 'summer':np.array(list(data['summer'].values())),\n",
    "           'autumn':np.array(list(data['autumn'].values()))}"
   ]
  },
  {
   "cell_type": "code",
   "execution_count": 545,
   "metadata": {},
   "outputs": [],
   "source": [
    "#В случае Гамма распределения\n",
    "def ScaleShapeGamma(arr):\n",
    "    scale = arr.var()/arr.mean()\n",
    "    shape = arr.mean()**2/arr.var()\n",
    "    loc = 0\n",
    "    return shape, loc, scale\n",
    "\n",
    "def ScipyFitGamma(values):\n",
    "    return sts.gamma.fit(values, floc=0)"
   ]
  },
  {
   "cell_type": "code",
   "execution_count": 546,
   "metadata": {},
   "outputs": [],
   "source": [
    "TSP = CreateDataBySeasons('TSP')\n",
    "TSP_values = ExtractValues(TSP)"
   ]
  },
  {
   "cell_type": "code",
   "execution_count": 563,
   "metadata": {},
   "outputs": [
    {
     "data": {
      "text/plain": [
       "[datetime.date(2010, 1, 2),\n",
       " datetime.date(2010, 1, 5),\n",
       " datetime.date(2010, 1, 6),\n",
       " datetime.date(2010, 1, 8),\n",
       " datetime.date(2010, 1, 11),\n",
       " datetime.date(2010, 1, 12),\n",
       " datetime.date(2010, 1, 14),\n",
       " datetime.date(2010, 1, 17),\n",
       " datetime.date(2010, 1, 18),\n",
       " datetime.date(2010, 1, 20),\n",
       " datetime.date(2010, 1, 23),\n",
       " datetime.date(2010, 1, 24),\n",
       " datetime.date(2010, 1, 26),\n",
       " datetime.date(2010, 1, 29),\n",
       " datetime.date(2010, 1, 30),\n",
       " datetime.date(2010, 1, 31)]"
      ]
     },
     "execution_count": 563,
     "metadata": {},
     "output_type": "execute_result"
    }
   ],
   "source": [
    "all_dates = list(TSP['all'].keys())\n",
    "[x for x in all_dates if x.year==2010 and x.month==1]"
   ]
  },
  {
   "cell_type": "code",
   "execution_count": 573,
   "metadata": {},
   "outputs": [],
   "source": [
    "#TSP['all'], dates\n",
    "#даты подбирал вручную с помощью визуаьного анализа и кода типа такого\n",
    "#[x for x in all_dates if x.year==2010 and x.month==1] \n",
    "dates = [datetime.date(1996,1,1), datetime.date(2010,1,2)]\n",
    "dates.insert(0, all_dates[0])\n",
    "dates.append(all_dates[-1])\n",
    "\n",
    "all_dates = list(TSP['all'].keys())\n",
    "all_values = list(TSP['all'].values())\n",
    "\n",
    "divided_data = {}\n",
    "\n",
    "for i in range(1, len(dates)):\n",
    "    start_ix = all_dates.index(dates[i-1])\n",
    "    end_ix = all_dates.index(dates[i])\n",
    "    key = 'part_' + str(i)\n",
    "    parts_dict = OrderedDict()\n",
    "    for j in range(start_ix, end_ix):\n",
    "        parts_dict[all_dates[j]] = all_values[j]\n",
    "    divided_data[key] = parts_dict\n",
    "    \n",
    "divided_data['part_'+str(len(dates)-1)][all_dates[-1]] = all_values[-1]"
   ]
  },
  {
   "cell_type": "markdown",
   "metadata": {},
   "source": [
    "### Хи квадрат"
   ]
  },
  {
   "cell_type": "code",
   "execution_count": 472,
   "metadata": {},
   "outputs": [],
   "source": [
    "from scipy.stats import chisquare, power_divergence, anderson, anderson_ksamp"
   ]
  },
  {
   "cell_type": "code",
   "execution_count": 41,
   "metadata": {},
   "outputs": [],
   "source": [
    "values = {'winter':np.array(list(TSP_values['winter'])),'spring':np.array(list(TSP_values['spring'])),\n",
    "          'summer':np.array(list(TSP_values['summer'])),'autumn':np.array(list(TSP_values['autumn']))}"
   ]
  },
  {
   "cell_type": "code",
   "execution_count": 76,
   "metadata": {},
   "outputs": [],
   "source": [
    "x = np.linspace(0, max(values['winter']),len(values['winter']))\n",
    "sh1, loc1, sc1 = ScipyFitGamma(values['winter'])\n",
    "y1 = sts.gamma.pdf(x, sh1, loc1, sc1)\n",
    "sh2, loc2, sc2 = ScaleShapeGamma(values['winter'])\n",
    "y2 = sts.gamma.pdf(x, sh2, loc2, sc2)"
   ]
  },
  {
   "cell_type": "code",
   "execution_count": 485,
   "metadata": {},
   "outputs": [
    {
     "data": {
      "text/plain": [
       "((1.7280372198753822, 0, 13.417576276029884),\n",
       " (1.6606048971087675, 0, 13.962424924715794))"
      ]
     },
     "execution_count": 485,
     "metadata": {},
     "output_type": "execute_result"
    }
   ],
   "source": [
    "(sh1,loc1,sc1), (sh2,loc2,sc2)"
   ]
  },
  {
   "cell_type": "code",
   "execution_count": 531,
   "metadata": {},
   "outputs": [
    {
     "data": {
      "text/plain": [
       "(2.055341741595502, 0, 23.625944935481385)"
      ]
     },
     "execution_count": 531,
     "metadata": {},
     "output_type": "execute_result"
    }
   ],
   "source": [
    "val=values['spring']\n",
    "param = gamma.fit(val,floc=0)\n",
    "param"
   ]
  },
  {
   "cell_type": "code",
   "execution_count": 532,
   "metadata": {},
   "outputs": [
    {
     "data": {
      "text/plain": [
       "11"
      ]
     },
     "execution_count": 532,
     "metadata": {},
     "output_type": "execute_result"
    }
   ],
   "source": [
    "RuleStugress(len(val))"
   ]
  },
  {
   "cell_type": "code",
   "execution_count": 533,
   "metadata": {},
   "outputs": [
    {
     "name": "stdout",
     "output_type": "stream",
     "text": [
      "148461.9354314234\n"
     ]
    }
   ],
   "source": [
    "histo, bin_edges = np.histogram(val, bins=RuleStugress(len(val)), density=False)\n",
    "n_bins = len(bin_edges) - 1\n",
    "n = sum(histo)\n",
    "observed_values = histo / n\n",
    "cdf = gamma.cdf(bin_edges, a=param[0], loc=param[1],scale=param[2])\n",
    "expected_values = np.diff(cdf)\n",
    "chi_stat = 0\n",
    "for i in range(n_bins):\n",
    "    chi_stat += np.power(observed_values[i] - expected_values[i], 2, dtype=np.float) / expected_values[i]\n",
    "print(chi_stat*n)"
   ]
  },
  {
   "cell_type": "code",
   "execution_count": 524,
   "metadata": {},
   "outputs": [],
   "source": [
    "#для проверки на R\n",
    "#вычисляет адекватнее гораздо, p-value, куда более приемлимые\n",
    "dic = {'x':histo,'p':expected_values}\n",
    "df = pd.DataFrame(dic, columns=['x', 'p'])\n",
    "df.to_csv('/Users/Barnett/RProjects/PracDZ/summerforchi2.csv', index=False)"
   ]
  },
  {
   "cell_type": "code",
   "execution_count": 509,
   "metadata": {},
   "outputs": [
    {
     "data": {
      "text/plain": [
       "Power_divergenceResult(statistic=0.01343819937519059, pvalue=0.9999999978734517)"
      ]
     },
     "execution_count": 509,
     "metadata": {},
     "output_type": "execute_result"
    }
   ],
   "source": [
    "power_divergence(observed_values, expected_values, lambda_=1,ddof=3)"
   ]
  },
  {
   "cell_type": "code",
   "execution_count": 511,
   "metadata": {},
   "outputs": [
    {
     "name": "stdout",
     "output_type": "stream",
     "text": [
      "Power_divergenceResult(statistic=772.6718977421388, pvalue=1.4624397509636906e-162)\n"
     ]
    }
   ],
   "source": [
    "def RuleStugress(n):\n",
    "    return int(1 + np.floor(np.log2(n)))\n",
    "train=val\n",
    "sh, loc, sc = ScipyFitGamma(train)\n",
    "param = ScipyFitGamma(train)\n",
    "#если рассматривать число элементов и ожидаемое число элементов в интервале\n",
    "histo, bin_edges = np.histogram(test, bins=RuleStugress(len(val)), density=False)\n",
    "n_bins = len(bin_edges) - 1\n",
    "f_ops = histo\n",
    "cdf = gamma.cdf(bin_edges, *param)\n",
    "f_exp = len(val) * np.diff(cdf)\n",
    "print(chisquare(f_ops, f_exp, ddof=len(param)))\n"
   ]
  },
  {
   "cell_type": "markdown",
   "metadata": {},
   "source": [
    "### KS Test"
   ]
  },
  {
   "cell_type": "code",
   "execution_count": 260,
   "metadata": {},
   "outputs": [],
   "source": [
    "def ScipyFitGamma(values):\n",
    "    return sts.gamma.fit(values, floc=0)"
   ]
  },
  {
   "cell_type": "code",
   "execution_count": 384,
   "metadata": {},
   "outputs": [],
   "source": [
    "def KSTest(values, distr):\n",
    "    if distr == 'gamma':\n",
    "        sh, loc, sc = ScipyFitGamma(values)\n",
    "        print (kstest(values, 'gamma', args=(sh,loc,sc)))\n",
    "        return"
   ]
  },
  {
   "cell_type": "code",
   "execution_count": 512,
   "metadata": {},
   "outputs": [
    {
     "name": "stdout",
     "output_type": "stream",
     "text": [
      "KstestResult(statistic=0.03163425187639102, pvalue=0.07945696755153138)\n",
      "KstestResult(statistic=0.030519259062621207, pvalue=0.05308409454965937)\n",
      "KstestResult(statistic=0.03366147343686643, pvalue=0.025543400701630564)\n",
      "KstestResult(statistic=0.0333641694805242, pvalue=0.049972164400725015)\n"
     ]
    }
   ],
   "source": [
    "KSTest(values['winter'], 'gamma')\n",
    "KSTest(values['spring'], 'gamma')\n",
    "KSTest(values['summer'], 'gamma')\n",
    "KSTest(values['autumn'], 'gamma')"
   ]
  },
  {
   "cell_type": "code",
   "execution_count": 535,
   "metadata": {},
   "outputs": [
    {
     "name": "stdout",
     "output_type": "stream",
     "text": [
      "KstestResult(statistic=0.03366147343686643, pvalue=0.025543400701630564)\n"
     ]
    },
    {
     "data": {
      "text/plain": [
       "KstestResult(statistic=0.03366147343686643, pvalue=0.025543400701630564)"
      ]
     },
     "execution_count": 535,
     "metadata": {},
     "output_type": "execute_result"
    }
   ],
   "source": [
    "#два эквивалентных варианта KS теста\n",
    "sh, loc, sc = ScipyFitGamma(values['summer'])\n",
    "\n",
    "print(kstest(values['summer'], 'gamma', args=(sh,loc,sc)))\n",
    "\n",
    "fdist = gamma(sh,loc,sc)\n",
    "kstest(values['summer'], fdist.cdf)"
   ]
  },
  {
   "cell_type": "code",
   "execution_count": 287,
   "metadata": {},
   "outputs": [],
   "source": [
    "from sklearn.model_selection import train_test_split"
   ]
  },
  {
   "cell_type": "code",
   "execution_count": 495,
   "metadata": {},
   "outputs": [
    {
     "data": {
      "text/plain": [
       "KstestResult(statistic=0.03864523038027712, pvalue=0.4634126838114338)"
      ]
     },
     "execution_count": 495,
     "metadata": {},
     "output_type": "execute_result"
    }
   ],
   "source": [
    "train, test= train_test_split(values['winter'], test_size=0.3, random_state=42)\n",
    "sh, loc, sc = ScipyFitGamma(train)\n",
    "kstest(test, 'gamma', args=(sh,loc,sc))"
   ]
  },
  {
   "cell_type": "code",
   "execution_count": 510,
   "metadata": {},
   "outputs": [
    {
     "name": "stderr",
     "output_type": "stream",
     "text": [
      "/Users/Barnett/anaconda3/lib/python3.6/site-packages/ipykernel_launcher.py:5: UserWarning: p-value capped: true value larger than 0.25\n",
      "  \"\"\"\n"
     ]
    },
    {
     "data": {
      "text/plain": [
       "Anderson_ksampResult(statistic=5.75852681788531e-07, critical_values=array([0.66880938, 1.28705937, 1.66172375, 1.98848063, 2.3713025 ,\n",
       "       2.63188437, 3.17527875]), significance_level=0.25)"
      ]
     },
     "execution_count": 510,
     "metadata": {},
     "output_type": "execute_result"
    }
   ],
   "source": [
    "param = ScipyFitGamma(values['winter'])\n",
    "fdist = gamma(param[0],param[1],param[2])\n",
    "val = sorted(values['winter'])\n",
    "val=np.array(val)\n",
    "anderson_ksamp(val.reshape(-1,1), fdist.cdf)"
   ]
  },
  {
   "cell_type": "code",
   "execution_count": 541,
   "metadata": {},
   "outputs": [
    {
     "data": {
      "text/plain": [
       "Ks_2sampResult(statistic=0.4357157784743992, pvalue=1.6027302680681622e-16)"
      ]
     },
     "execution_count": 541,
     "metadata": {},
     "output_type": "execute_result"
    }
   ],
   "source": [
    "param=ScipyFitGamma(values['winter'])\n",
    "fdist=gamma(param[0],param[1],param[2])\n",
    "y = fdist.rvs(size=100)\n",
    "ks_2samp(values['summer'], y)"
   ]
  },
  {
   "cell_type": "code",
   "execution_count": null,
   "metadata": {},
   "outputs": [],
   "source": []
  }
 ],
 "metadata": {
  "kernelspec": {
   "display_name": "Python 3",
   "language": "python",
   "name": "python3"
  },
  "language_info": {
   "codemirror_mode": {
    "name": "ipython",
    "version": 3
   },
   "file_extension": ".py",
   "mimetype": "text/x-python",
   "name": "python",
   "nbconvert_exporter": "python",
   "pygments_lexer": "ipython3",
   "version": "3.7.6"
  }
 },
 "nbformat": 4,
 "nbformat_minor": 2
}
