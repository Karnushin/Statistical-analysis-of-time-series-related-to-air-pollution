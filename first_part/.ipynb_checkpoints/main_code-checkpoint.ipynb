{
 "cells": [
  {
   "cell_type": "code",
   "execution_count": 1,
   "metadata": {},
   "outputs": [],
   "source": [
    "import pandas as pd\n",
    "import matplotlib.pyplot as plt\n",
    "import datetime\n",
    "import matplotlib.dates as mdates\n",
    "import matplotlib.transforms as transforms\n",
    "import numpy as np\n",
    "from sklearn.model_selection import train_test_split\n",
    "import seaborn as sns\n",
    "from statsmodels.tsa.seasonal import seasonal_decompose\n",
    "import scipy.stats as st\n",
    "from collections import OrderedDict, defaultdict\n",
    "from scipy.stats import ks_2samp, kstest, chisquare\n",
    "import re\n",
    "import matplotlib.patches as mpatches\n",
    "\n",
    "\n",
    "import warnings\n",
    "warnings.filterwarnings(\"ignore\")"
   ]
  },
  {
   "cell_type": "code",
   "execution_count": 2,
   "metadata": {},
   "outputs": [],
   "source": [
    "#plt.style.use('default')\n",
    "sns.set()"
   ]
  },
  {
   "cell_type": "code",
   "execution_count": 3,
   "metadata": {},
   "outputs": [],
   "source": [
    "def PrepareDataFrame(df_raw):\n",
    "    df_raw.fillna(value=np.nan, inplace=True)\n",
    "    df_raw.drop(df_raw.loc[:,'NO':].columns, axis=1, inplace=True)\n",
    "    df_raw.drop(df_raw.loc[:,'ST':'DU'].columns, axis=1, inplace=True)\n",
    "    df_raw.dropna(subset=['YY','MM', 'DD'], inplace=True)\n",
    "    #приведем столбцы с датой к int, сбросим индексы ввиду манипуляций с удалениями, чтобы навести порядок\n",
    "    df_raw.loc[:, 'YY':'DD'] = df_raw.loc[:, 'YY':'DD'].astype(int)\n",
    "    df_raw.reset_index(drop=True, inplace=True)\n",
    "    for i, x in enumerate(df_raw['YY']):\n",
    "        df_raw.loc[i, 'YY'] = 1900 + x if x >= 83 else 2000 + x\n",
    "    date_column, index_error = [], []\n",
    "    for i in range(df_raw.shape[0]):\n",
    "        try:\n",
    "            date_column.append(datetime.date(df_raw.iloc[i,0],df_raw.iloc[i,1],df_raw.iloc[i,2]))\n",
    "        except ValueError:\n",
    "            index_error.append(i)\n",
    "    print('Некорректные строки удалены:\\n')\n",
    "    print(df_raw.iloc[index_error,:])\n",
    "    df_raw.drop(index_error, axis = 0, inplace=True)\n",
    "    df_raw.reset_index(drop=True, inplace=True)\n",
    "    #приведение необходимых параметров к типу числовым типам(избавление от типа object)\n",
    "    df_raw = df_raw.apply(pd.to_numeric, errors='coerce')\n",
    "    df_raw.insert(0, 'Time', date_column)\n",
    "    ##############################################################################################################\n",
    "    #в дальнейшем не понадобится, но удобно смотреть на то, какой по счету нужный месяц\n",
    "    #months = {'January':1,'February':2,'March':3,'April':4,'May':5,'June':6,\n",
    "    #      'July':7,'August':8,'September':9,'October':10,'November':11,'December':12}\n",
    "    ##############################################################################################################\n",
    "    return df_raw"
   ]
  },
  {
   "cell_type": "code",
   "execution_count": 4,
   "metadata": {},
   "outputs": [],
   "source": [
    "#подготовим данные по временам года\n",
    "def PrepareSeasonalDataFrame(df):\n",
    "    wind = df[df['MM'].isin([12, 1, 2])].reset_index(drop=True)\n",
    "    sprd = df[df['MM'].isin([3, 4, 5])].reset_index(drop=True)\n",
    "    sumd = df[df['MM'].isin([6, 7, 8])].reset_index(drop=True)\n",
    "    autd = df[df['MM'].isin([9, 10, 11])].reset_index(drop=True)\n",
    "    return wind,sprd,sumd,autd"
   ]
  },
  {
   "cell_type": "code",
   "execution_count": 5,
   "metadata": {},
   "outputs": [
    {
     "name": "stdout",
     "output_type": "stream",
     "text": [
      "Некорректные строки удалены:\n",
      "\n",
      "        YY  MM  DD  TSP  SO2  SO4   HG   PB   CD  NO2\n",
      "5187  1998   9  31  NaN  0.0  NaN  NaN  NaN  NaN  NaN\n"
     ]
    }
   ],
   "source": [
    "#загрузили исходные данные\n",
    "df_raw = pd.read_excel(r'Prioksk_Air_in.xlsx')\n",
    "#очистили их от того, что не потребуется и что может привести к ошибкам\n",
    "df = PrepareDataFrame(df_raw.copy())\n",
    "#создадим копию для удобства\n",
    "data_total = df.copy()\n",
    "winter_data, spring_data, summer_data, autumn_data = PrepareSeasonalDataFrame(df.copy())"
   ]
  },
  {
   "cell_type": "code",
   "execution_count": 6,
   "metadata": {},
   "outputs": [],
   "source": [
    "def ExtractNotNullData(dataframe, element, with_zero=True):\n",
    "    notnulldata = OrderedDict()\n",
    "    if with_zero == True:\n",
    "        for i in range(dataframe.shape[0]):\n",
    "            if np.isnan(dataframe.loc[i, element]) == False:\n",
    "                notnulldata[dataframe.loc[i,'Time']] = dataframe.loc[i, element]\n",
    "    else:\n",
    "        for i in range(dataframe.shape[0]):\n",
    "            if np.isnan(dataframe.loc[i, element]) == False and dataframe.loc[i, element] != 0:\n",
    "                notnulldata[dataframe.loc[i,'Time']] = dataframe.loc[i, element]\n",
    "    return notnulldata\n",
    "\n",
    "def CreateDataBySeasons(element, with_zero=True):\n",
    "    return {'all':ExtractNotNullData(data_total, element, with_zero), 'winter':ExtractNotNullData(winter_data, element,with_zero),\n",
    "           'spring':ExtractNotNullData(spring_data,element,with_zero), 'summer':ExtractNotNullData(summer_data, element,with_zero),\n",
    "           'autumn':ExtractNotNullData(autumn_data, element,with_zero)}\n",
    "\n",
    "\n",
    "def ExtractValues(data):\n",
    "    return {'all':np.array(list(data['all'].values())),'winter':np.array(list(data['winter'].values())),\n",
    "           'spring':np.array(list(data['spring'].values())), 'summer':np.array(list(data['summer'].values())),\n",
    "           'autumn':np.array(list(data['autumn'].values()))}    "
   ]
  },
  {
   "cell_type": "code",
   "execution_count": 85,
   "metadata": {},
   "outputs": [],
   "source": [
    "def GetBestDistribution(data):\n",
    "    train, test = train_test_split(data, test_size=0.1)\n",
    "    dist_names = ['expon', 'genexpon', 'gamma','gengamma','invgamma','loggamma','lognorm']\n",
    "    \n",
    "    #['alpha', 'beta', 'expon', 'genexpon', 'gamma','gengamma','invgamma','loggamma',\n",
    "     #             'lognorm','mielke','ncf','powerlognorm','recipinvgauss', 'johnsonsu']\n",
    "        \n",
    "    dist_results_KS = []\n",
    "    dist_results_Chi2 = []\n",
    "    params_chi2 = {}\n",
    "    params_ks = {}\n",
    "    for dist_name in dist_names:\n",
    "        dist = getattr(st, dist_name)\n",
    "        params1 = dist.fit(train, floc=0)\n",
    "        params2 = dist.fit(train, loc=0)\n",
    "        \n",
    "        S1, p_chi2_1 = ChiSquareOnTest(test, dist_name, params1)\n",
    "        S2, p_chi2_2 = ChiSquareOnTest(test, dist_name, params2)\n",
    "        S, p_chi2, param_chi2 = (S1, p_chi2_1, params1) if p_chi2_1 > p_chi2_2 else (S2, p_chi2_2, params2)\n",
    "        \n",
    "        params_chi2[dist_name] = param_chi2\n",
    "        \n",
    "        D1, p_ks_1 = st.kstest(test, dist_name, args=params1)\n",
    "        D2, p_ks_2 = st.kstest(test, dist_name, args=params2)\n",
    "        D, p_ks, param_ks = (D1, p_ks_1, params1) if p_ks_1 > p_ks_2 else (D2, p_ks_2, params2)\n",
    "        \n",
    "        params_ks[dist_name] = param_ks\n",
    "        \n",
    "        #print(\"p value on K-S for \"+dist_name+\" = \"+str(p_ks))\n",
    "        #print(\"p value on Chi2 for \"+dist_name+\" = \"+str(p_chi2))\n",
    "        dist_results_KS.append((dist_name, p_ks))\n",
    "        dist_results_Chi2.append((dist_name,p_chi2))\n",
    "    \n",
    "    #select the best fitted distribution on Chi2\n",
    "    best_dist_chi2, best_p_chi2 = (max(dist_results_Chi2, key=lambda item: item[1]))\n",
    "    #select the best fitted distribution on KS\n",
    "    best_dist_ks, best_p_ks = (max(dist_results_KS, key=lambda item: item[1]))\n",
    "    \n",
    "    f1, f2 = False, False\n",
    "    it_ks, it_chi2 = 0,0\n",
    "    if best_p_ks < 0.05:\n",
    "        f1 = True\n",
    "        l1_dist_param = {}\n",
    "        l1_dist_pv = []\n",
    "        while p_ks < 0.05 and it_ks < 2:\n",
    "            train, test = train_test_split(data, test_size=0.1)\n",
    "            for dist_name in dist_names:\n",
    "                name = dist_name + '_' + str(it_ks)\n",
    "                dist = getattr(st, dist_name)\n",
    "                params1 = dist.fit(train, floc=0)\n",
    "                params2 = dist.fit(train, loc=0)\n",
    "                D1, p_ks_1 = st.kstest(test, dist_name, args=params1)\n",
    "                D2, p_ks_2 = st.kstest(test, dist_name, args=params2)\n",
    "                D, p_ks, param_ks = (D1, p_ks_1, params1) if p_ks_1 > p_ks_2 else (D2, p_ks_2, params2)\n",
    "                l1_dist_param[name] = param_ks\n",
    "                l1_dist_pv.append((name, p_ks))\n",
    "            it_ks += 1\n",
    "            l1_best_dist, l1_best_pv = (max(l1_dist_pv, key=lambda item: item[1]))\n",
    "        if l1_best_pv > best_p_ks:\n",
    "            best_p_ks = l1_best_pv\n",
    "            best_dist_ks = re.split('[_]', l1_best_dist)[0]\n",
    "            new_params_ks = l1_dist_param[l1_best_dist]\n",
    "        else:\n",
    "            f1 = False\n",
    "\n",
    "    if best_p_chi2 < 0.05:\n",
    "        f2 = True\n",
    "        l2_dist_param = {}\n",
    "        l2_dist_pv = []\n",
    "        while p_chi2 < 0.05 and it_chi2 < 2:\n",
    "            train, test = train_test_split(data, test_size=0.1)\n",
    "            for dist_name in dist_names:\n",
    "                name = dist_name + '_' + str(it_chi2)\n",
    "                dist = getattr(st, dist_name)\n",
    "                params1 = dist.fit(train, floc=0)\n",
    "                params2 = dist.fit(train, loc=0)\n",
    "                S1, p_chi2_1 = ChiSquareOnTest(test, dist_name, params1)\n",
    "                S2, p_chi2_2 = ChiSquareOnTest(test, dist_name, params2)\n",
    "                S, p_chi2, param_chi2 = (S1, p_chi2_1, params1) if p_chi2_1 > p_chi2_2 else (S2, p_chi2_2, params2)\n",
    "                l2_dist_param[name] = param_chi2\n",
    "                l2_dist_pv.append((name, p_chi2))\n",
    "            it_chi2 += 1\n",
    "            l2_best_dist, l2_best_pv = (max(l2_dist_pv, key=lambda item: item[1]))\n",
    "        if l2_best_pv > best_p_chi2:\n",
    "            best_p_chi2 = l2_best_pv\n",
    "            best_dist_chi2 = re.split('[_]', l2_best_dist)[0]\n",
    "            new_params_chi2 = l2_dist_param[l2_best_dist]\n",
    "        else:\n",
    "            f2 = False\n",
    "            \n",
    "    print('\\nChi2')\n",
    "    print(\"Best fitting distribution: \"+str(best_dist_chi2))\n",
    "    print(\"Best p value: \"+ str(best_p_chi2))\n",
    "    if f2 == False:\n",
    "        print(\"Parameters for the best fit: \"+ str(params_chi2[best_dist_chi2]))\n",
    "    elif best_p_chi2 >= 0.05:\n",
    "        print(\"Parameters for the best fit: \"+ str(new_params_chi2))\n",
    "    elif best_p_chi2 <= 0.05:\n",
    "        print('!!!Optimal Distribution on Chi Square was not found!!!')\n",
    "        \n",
    "    print('\\nK-S')\n",
    "    print(\"Best fitting distribution: \"+str(best_dist_ks))\n",
    "    print(\"Best p value: \"+ str(best_p_ks))\n",
    "    if f1 == False:\n",
    "        print(\"Parameters for the best fit: \"+ str(params_ks[best_dist_ks]))\n",
    "    elif best_p_ks >= 0.05:\n",
    "        print(\"Parameters for the best fit: \"+ str(new_params_ks))\n",
    "    elif best_p_ks <= 0.05:\n",
    "        print('!!!Optimal Distribution on K-S was not found!!!')\n",
    "        \n",
    "    if f1 == False and f2 == False:\n",
    "        return best_dist_ks, params_ks[best_dist_ks], best_p_ks, \\\n",
    "               best_dist_chi2, params_chi2[best_dist_chi2], best_p_chi2\n",
    "    elif f1 == True and f2 == False:\n",
    "        return best_dist_ks, new_params_ks, best_p_ks, \\\n",
    "               best_dist_chi2, params_chi2[best_dist_chi2], best_p_chi2\n",
    "    elif f1 == False and f2 == True:\n",
    "        return best_dist_ks, params_ks[best_dist_ks], best_p_ks, \\\n",
    "               best_dist_chi2, new_params_chi2, best_p_chi2\n",
    "    elif f1 == True and f2 == True:\n",
    "        return best_dist_ks, new_params_ks, best_p_ks, \\\n",
    "               best_dist_chi2, new_params_chi2, best_p_chi2"
   ]
  },
  {
   "cell_type": "code",
   "execution_count": 19,
   "metadata": {},
   "outputs": [],
   "source": [
    "def PlotElement(data, element, season, width=10, height=8, n=0):\n",
    "    fig, ax = plt.subplots(figsize=(width,height))\n",
    "    \n",
    "    #выделим для отображения по всем годам по оси Х\n",
    "    years = mdates.YearLocator()   # every year\n",
    "    #months = mdates.MonthLocator()  # every month\n",
    "    yearsFmt = mdates.DateFormatter('%Y')\n",
    "\n",
    "    #установим xmin и xmax для красоты отображения\n",
    "    xmax = datetime.date((max(data).year+1),1,1)\n",
    "    xmin = datetime.date((min(data).year-1),1,1)\n",
    "    #ymin=TSP[min(data, key=data.get)]\n",
    "    #ymax=TSP[max(data, key=data.get)]\n",
    "    ax.set_xlim(xmin, xmax)\n",
    "        \n",
    "    #рисуем точечный график\n",
    "    data_size = len(data)\n",
    "    information = element + '\\nSize: ' + str(data_size)\n",
    "    ax.scatter(data.keys(), data.values(), label=information, marker='o', s=5)\n",
    "    \n",
    "    #если вся выборка, то проведем порог\n",
    "    if (season == 'general'):\n",
    "        print('Построение графика всей выборки для {0}'.format(element))\n",
    "        if n:\n",
    "            ax.axhline(n, lw=0.9,color='red', label='$n={0}$'.format(n))\n",
    "        fig.autofmt_xdate()\n",
    "    else:\n",
    "        ax.tick_params(axis='x', rotation=90)\n",
    "          \n",
    "    #зададим более аккуратное отображение подписей осей\n",
    "    if width > 15:\n",
    "        ax.set_xlabel('Date', fontsize=22)\n",
    "        ax.tick_params(axis='x', which='major', labelsize=16)\n",
    "    else:\n",
    "        ax.set_xlabel('$Date$', fontsize=10)\n",
    "    if height > 15:\n",
    "        ax.legend(loc='best', fontsize=15)\n",
    "        ax.tick_params(axis='y', which='major', labelsize=16)\n",
    "        ax.set_ylabel('Value', fontsize=22)\n",
    "    else:\n",
    "        ax.legend(loc='best', fontsize=10)\n",
    "        ax.set_ylabel('$Value$', fontsize=10)\n",
    "    \n",
    "    ax.set_title(element + ' ' + season, fontsize=14)\n",
    "    ax.tick_params(axis='x', rotation=0)\n",
    "    #для отображения \"тиков\" по оси Ox\n",
    "    #ax.xaxis.set_major_locator(years)\n",
    "    #ax.xaxis.set_major_formatter(yearsFmt)\n",
    "    #ax.xaxis.set_minor_locator(months)\n",
    "\n",
    "    ax.grid(True)\n",
    "    plt.show()\n",
    "    return fig"
   ]
  },
  {
   "cell_type": "code",
   "execution_count": 90,
   "metadata": {},
   "outputs": [],
   "source": [
    "def CountZerosInData(values, element):\n",
    "    k = len(values) - np.count_nonzero(values)\n",
    "    print('Число нулевых элементов в полной выборке {0}: {1}\\n'.format(element,k))\n",
    "    return k\n",
    "    \n",
    "def SizeSample(values, element):\n",
    "    print('Размер полной выборки для {0} равен {1}'.format(element, len(values)))\n",
    "    \n",
    "def DivideSampleByTreshold(sample, treshold):\n",
    "    low_val, over_val = [], []\n",
    "    for val in sample:\n",
    "        if val <= treshold:\n",
    "            low_val.append(val)\n",
    "        else:\n",
    "            over_val.append(val)\n",
    "    return low_val, over_val\n",
    "\n",
    "def CountByTreshold(values, element, max_treshold, step):\n",
    "    print('Посмотрим на число элементов выше и ниже некоторых порогов для выборки {0}\\n'.format(element))\n",
    "    tresholds = np.arange(0, max_treshold + step, step)\n",
    "    for n in tresholds:\n",
    "        low_val, over_val = DivideSampleByTreshold(values, n)\n",
    "        print(\"Порог: {0}, значений выше: {1}, ниже: {2}\".format(n, len(over_val), len(low_val)))\n",
    "def KSTest2Sample(values, size = 100):\n",
    "    answer_ks2samp = []\n",
    "    for i in range(len(values)-2*size+1):\n",
    "        x = np.array(values[i:i+size])\n",
    "        y = np.array(values[i+size:i+2*size])\n",
    "        test_val = ks_2samp(x,y)[1]\n",
    "        answer_ks2samp.append(test_val)\n",
    "    return answer_ks2samp\n",
    "\n",
    "def RepeatedValuesCount(p_values):\n",
    "    hypothesis_check = [1 if x > 0.05 else 0 for x in p_values]\n",
    "    cont_seqs_len = []\n",
    "    count_repeated = 0\n",
    "    current_elem = hypothesis_check[0]\n",
    "    \n",
    "    for x in hypothesis_check:\n",
    "        if x == current_elem:\n",
    "            count_repeated += 1\n",
    "        else:\n",
    "            cont_seqs_len.append((current_elem, count_repeated))\n",
    "            count_repeated = 1\n",
    "            current_elem = x\n",
    "    cont_seqs_len.append((current_elem,count_repeated))\n",
    "    \n",
    "    return cont_seqs_len\n",
    "\n",
    "def HistOnRepValues(cont_seqs_len, element):\n",
    "    dic = {'number':[x[0] for x in cont_seqs_len], 'value':[x[1] for x in cont_seqs_len]}\n",
    "    df = pd.DataFrame(dic, columns=['number','value'])\n",
    "    colors = ['mediumblue' if x == 1 else 'grey' for x in df.number.values]\n",
    "    print('Принимаем гипотезу однородности К-С, если p-value > 0.05, сопоставляем 1, иначе 0')\n",
    "    print('Число подряд идущих 1 - синим цветом, 0 - серым ')\n",
    "    fig = plt.figure(figsize=(14,14))\n",
    "    ax = df.value.plot.bar(y=df.value, rot=0, color=colors, width=0.5, legend=True)\n",
    "    \n",
    "    grey_patch = mpatches.Patch(color='grey', label='Count repeated 0')\n",
    "    blue_patch = mpatches.Patch(color='mediumblue', label='Count repeated 1')\n",
    "\n",
    "    ax.legend(handles=[grey_patch, blue_patch])\n",
    "    ax.set_xlabel('Длина временных интервалов принятия/отклонения критерия однородности КС',fontsize=20)\n",
    "    ax.tick_params(axis='y', labelsize=16)\n",
    "    \n",
    "    ax.set_title('{0} general'.format(element),fontsize=20)\n",
    "    ax.set_xticks([], [])\n",
    "    plt.show()\n",
    "    return fig"
   ]
  },
  {
   "cell_type": "code",
   "execution_count": 20,
   "metadata": {},
   "outputs": [],
   "source": [
    "def DistributionBySeason(values, element, season, params_dict):\n",
    "            \n",
    "    print('Гистограмма для выборки {0}, сезон - {1}'.format(element, season))\n",
    "    print('Поверх нее строятся теоритические функции плотности вероятности с вычисленными параметрами')\n",
    "    \n",
    "    fig = plt.figure(figsize=(8,8))\n",
    "    \n",
    "    x = np.linspace(-0.2, max(values),1000)\n",
    "    colors = ['red', 'blue', 'forestgreen', 'orange']\n",
    "    \n",
    "    for i, distr in enumerate(list(params_dict.keys())):\n",
    "        if distr == 'f':\n",
    "            info_distr = distr + ' pdf\\n dfn= {0:.4g},\\n dfd= {1:.4g},\\n loc= {2:.4g},\\n scale= {3:.4g}'. \\\n",
    "            format(params_dict[distr][0],params_dict[distr][1],params_dict[distr][2],params_dict[distr][3])\n",
    "        if distr == 'expon':\n",
    "            info_distr = distr + ' pdf\\n loc= {0:.4g},\\n scale= {1:.4g}'. \\\n",
    "            format(params_dict[distr][0],params_dict[distr][1])\n",
    "        if distr == 'genexpon':\n",
    "            info_distr = distr + ' pdf\\n a= {0:.4g},\\n b= {1:.4g},\\n c={2:.4g},\\n loc= {3:.4g},\\n scale= {4:.4g}'. \\\n",
    "            format(params_dict[distr][0],params_dict[distr][1],params_dict[distr][2],params_dict[distr][3],params_dict[distr][4])\n",
    "        if distr == 'gamma':\n",
    "            info_distr = distr + ' pdf\\n shape= {0:.4g},\\n loc= {1:.4g},\\n scale= {2:.4g}'. \\\n",
    "            format(params_dict[distr][0],params_dict[distr][1], params_dict[distr][2])\n",
    "        if distr == 'gengamma':\n",
    "            info_distr = distr + ' pdf\\n a= {0:.4g},\\n c= {1:.4g},\\n loc= {2:.4g},\\n scale= {3:.4g}'. \\\n",
    "            format(params_dict[distr][0],params_dict[distr][1],params_dict[distr][2],params_dict[distr][3])\n",
    "        if distr == 'invgamma':\n",
    "            info_distr = distr + ' pdf\\n shape= {0:.4g},\\n loc= {1:.4g},\\n scale= {2:.4g}'. \\\n",
    "            format(params_dict[distr][0],params_dict[distr][1],params_dict[distr][2])\n",
    "        if distr == 'loggama':\n",
    "            info_distr = distr + ' pdf\\n c= {0:.4g},\\n loc= {1:.4g},\\n scale= {2:.4g}'. \\\n",
    "            format(params_dict[distr][0],params_dict[distr][1],params_dict[distr][2])\n",
    "        if distr == 'lognorm':\n",
    "            info_distr = distr + ' pdf\\n shape= {0:.4g},\\n loc= {1:.4g},\\n scale= {2:.4g}'. \\\n",
    "            format(params_dict[distr][0],params_dict[distr][1],params_dict[distr][2])\n",
    "        if distr == 'mielke':\n",
    "            info_distr = distr + ' pdf\\n k= {0:.4g},\\n s= {1:.4g},\\n loc= {2:.4g},\\n scale= {3:.4g}'. \\\n",
    "            format(params_dict[distr][0],params_dict[distr][1],params_dict[distr][2],params_dict[distr][3])\n",
    "        if distr == 'ncf':\n",
    "            info_distr = distr + ' pdf\\n dfn= {0:.4g},\\n dfd= {1:.4g},\\n nc= {2:.4g},\\n loc= {3:.4g},\\n scale= {4:.4g}'. \\\n",
    "            format(params_dict[distr][0],params_dict[distr][1],params_dict[distr][2],params_dict[distr][3],params_dict[distr][4])\n",
    "        if distr == 'powerlognorm':\n",
    "            info_distr = distr + ' pdf\\n c= {0:.4g},\\n s= {1:.4g},\\n loc= {2:.4g},\\n scale= {3:.4g}'. \\\n",
    "            format(params_dict[distr][0],params_dict[distr][1],params_dict[distr][2],params_dict[distr][3])\n",
    "        if distr == 'recipinvgauss':\n",
    "            info_distr = distr + ' pdf\\n mu= {0:.4g},\\n loc= {1:.4g},\\n scale= {2:.4g}'. \\\n",
    "            format(params_dict[distr][0],params_dict[distr][1],params_dict[distr][2])\n",
    "        if distr == 'johnsonsu':\n",
    "            info_distr = distr + ' pdf\\n a= {0:.4g},\\n b= {1:.4g},\\n loc= {2:.4g},\\n scale= {3:.4g}'. \\\n",
    "            format(params_dict[distr][0],params_dict[distr][1],params_dict[distr][2],params_dict[distr][3])\n",
    "        if distr == 'dgamma':\n",
    "            info_distr = distr + ' pdf\\n a= {0:.4g},\\n loc= {1:.4g},\\n scale= {2:.4g}'. \\\n",
    "            format(params_dict[distr][0],params_dict[distr][1],params_dict[distr][2])\n",
    "        if distr == 'foldcauchy':\n",
    "            info_distr = distr + ' pdf\\n shape= {0:.4g}'. \\\n",
    "            format(params_dict[distr][0])\n",
    "        if distr == 'loglaplace':\n",
    "            info_distr = distr + ' pdf\\n shape= {0:.4g},\\n loc= {1:.4g},\\n scale= {2:.4g}'. \\\n",
    "            format(params_dict[distr][0],params_dict[distr][1],params_dict[distr][2])\n",
    "        if distr == 'wald':\n",
    "            info_distr = distr + ' pdf\\n loc= {0:.4g},\\n scale= {1:.4g}'. \\\n",
    "            format(params_dict[distr][0],params_dict[distr][1])\n",
    "        if distr == 'genhalflogistic':\n",
    "            info_distr = distr + ' pdf\\n shape= {0:.4g},\\n loc= {1:.4g},\\n scale= {2:.4g}'. \\\n",
    "            format(params_dict[distr][0],params_dict[distr][1],params_dict[distr][2])\n",
    "        if distr == 'invgauss':\n",
    "            info_distr = distr + ' pdf\\n mu= {0:.4g},\\n loc= {1:.4g},\\n scale= {2:.4g}'. \\\n",
    "            format(params_dict[distr][0],params_dict[distr][1],params_dict[distr][2])\n",
    "        if distr == 'alpha':\n",
    "            info_distr = 'dsfdfsdf'\n",
    "            \n",
    "        fdist = getattr(st, distr)\n",
    "        y1 = fdist.pdf(x, *params_dict[distr])\n",
    "        plt.plot(x, y1, color=colors[i], linewidth=2, label=info_distr)\n",
    "        \n",
    "    plt.hist(values, bins='sqrt', density=True, color='grey',\n",
    "             label='{0}\\n size of sample: {1}'.format(season,len(values)))\n",
    "    plt.title(element + ' '+ season,fontsize=14)\n",
    "    plt.legend(loc='best', fontsize=10)\n",
    "    plt.ylabel('$Density$', fontsize=10)\n",
    "    plt.xlabel('$x$', fontsize=10)\n",
    "    plt.show()\n",
    "    return fig\n",
    "\n",
    "def HistOnSample(values, element, season='general'):\n",
    "    if season == 'general':\n",
    "        print('Гистограмма для полной выборки {0}'.format(element))\n",
    "    else:\n",
    "        print('Гистограмма для выборки {0}, сезон - {1}'.format(element, season))\n",
    "    fig = plt.figure(figsize=(6,6))\n",
    "    plt.hist(values,bins='sqrt', density=False, color='blue', \n",
    "             label='{0}\\n{1}\\nРазмер: {2}'.format(element,season,len(values)))\n",
    "    plt.legend(loc='best', fontsize=10)\n",
    "    plt.title('{0}'.format(element), fontsize=16)\n",
    "    plt.ylabel('$Density$', fontsize=14)\n",
    "    plt.xlabel('$x$', fontsize=14)\n",
    "    plt.show()\n",
    "    \n",
    "    return fig"
   ]
  },
  {
   "cell_type": "code",
   "execution_count": 11,
   "metadata": {},
   "outputs": [],
   "source": [
    "def NoteByYear(ELEM, elem_name):\n",
    "    years = [x.year for x in list(ELEM['all'].keys())]\n",
    "    values = list(ELEM['all'].values())\n",
    "    df = pd.DataFrame(list(zip(years, values)), columns=['year', 'val'])\n",
    "    d_note = {'Year':np.unique(years)}\n",
    "    df_group = df.groupby(['year'])['val']\n",
    "    d_note['Average'] = list(df_group.mean())\n",
    "    d_note['Median'] = list(df_group.median())\n",
    "    d_note['Min'] = list(df_group.min())\n",
    "    d_note['Max'] = list(df_group.max())\n",
    "    d_note['Percentile75'] = list(df_group.quantile(.75))\n",
    "    d_note['Percentile25'] = list(df_group.quantile(.25))\n",
    "\n",
    "    return d_note\n",
    "\n"
   ]
  },
  {
   "cell_type": "code",
   "execution_count": 12,
   "metadata": {},
   "outputs": [],
   "source": [
    "def SumStatisticsEveryFiveYears(note):\n",
    "    years_5 = np.unique(np.concatenate([note['Year'][::10], [note['Year'][-1]]]))\n",
    "    note_5 = defaultdict(list)\n",
    "    for year in years_5:\n",
    "        ix = np.where(year==note['Year'])[0][0]\n",
    "        note_5['Year'].append(year)\n",
    "        note_5['Average'].append(round(note['Average'][ix],3))\n",
    "        note_5['Median'].append(round(note['Median'][ix],3))\n",
    "        note_5['Min'].append(round(note['Min'][ix],3))\n",
    "        note_5['Max'].append(round(note['Max'][ix],3))\n",
    "        note_5['Percentile75'].append(round(note['Percentile75'][ix],3))\n",
    "        note_5['Percentile25'].append(round(note['Percentile25'][ix],3))\n",
    "    return note_5"
   ]
  },
  {
   "cell_type": "code",
   "execution_count": 65,
   "metadata": {},
   "outputs": [
    {
     "name": "stdout",
     "output_type": "stream",
     "text": [
      "Число нулевых элементов в полной выборке TSP: 0\n",
      "\n"
     ]
    }
   ],
   "source": [
    "ELEM_NAME = 'TSP'\n",
    "ELEM = CreateDataBySeasons(ELEM_NAME, with_zero=True)\n",
    "VALUES = ExtractValues(ELEM)\n",
    "\n",
    "if CountZerosInData(VALUES['all'], ELEM_NAME) > 0:\n",
    "    #НЕ словарь, просто массив по полной выборке соответ-го элемента\n",
    "    ELEM_NOT_NULL = CreateDataBySeasons(ELEM_NAME, with_zero=False)\n",
    "    VALUES_NOT_NULL = ExtractValues(ELEM_NOT_NULL)\n",
    "else:\n",
    "    VALUES_NOT_NULL = VALUES"
   ]
  },
  {
   "cell_type": "code",
   "execution_count": null,
   "metadata": {},
   "outputs": [],
   "source": []
  },
  {
   "cell_type": "code",
   "execution_count": 66,
   "metadata": {},
   "outputs": [],
   "source": [
    "note = NoteByYear(ELEM, ELEM_NAME)\n",
    "note_5 = SumStatisticsEveryFiveYears(note)\n",
    "df = pd.DataFrame(note_5)\n",
    "df.to_csv(ELEM_NAME+'_every_5years_statistics.csv', index=False, header=True)"
   ]
  },
  {
   "cell_type": "code",
   "execution_count": 79,
   "metadata": {},
   "outputs": [
    {
     "name": "stdout",
     "output_type": "stream",
     "text": [
      "Размер полной выборки для TSP равен 7099\n",
      "Число нулевых элементов в полной выборке TSP: 0\n",
      "\n",
      "Посмотрим на число элементов выше и ниже некоторых порогов для выборки TSP\n",
      "\n",
      "Порог: 0, значений выше: 7099, ниже: 0\n",
      "Порог: 2, значений выше: 6950, ниже: 149\n",
      "Порог: 4, значений выше: 6772, ниже: 327\n",
      "Порог: 6, значений выше: 6555, ниже: 544\n",
      "Порог: 8, значений выше: 6334, ниже: 765\n",
      "Порог: 10, значений выше: 6076, ниже: 1023\n"
     ]
    }
   ],
   "source": [
    "SizeSample(VALUES['all'], ELEM_NAME)\n",
    "k = CountZerosInData(VALUES['all'], ELEM_NAME)\n",
    "CountByTreshold(VALUES['all'], ELEM_NAME,  10, 2)"
   ]
  },
  {
   "cell_type": "code",
   "execution_count": 81,
   "metadata": {},
   "outputs": [
    {
     "name": "stdout",
     "output_type": "stream",
     "text": [
      "Построение графика всей выборки для TSP\n"
     ]
    },
    {
     "data": {
      "image/png": "[encoded data removed]",
      "text/plain": [
       "<Figure size 576x576 with 1 Axes>"
      ]
     },
     "metadata": {},
     "output_type": "display_data"
    }
   ],
   "source": [
    "fig1 = PlotElement(ELEM['all'],ELEM_NAME,'general',8,8,4)\n",
    "fig1.savefig(ELEM_NAME+'_PlotAll.png', bbox_inches='tight', pad_inches=0)"
   ]
  },
  {
   "cell_type": "code",
   "execution_count": 69,
   "metadata": {},
   "outputs": [],
   "source": [
    "def FitParams(values, distr, floc=0):\n",
    "    fdist = getattr(st, distr)\n",
    "    if not floc:\n",
    "        params = fdist.fit(values, floc=floc)\n",
    "    else:\n",
    "        params = fdist.fit(values)\n",
    "    return params\n",
    "\n",
    "def KSOnTest(test, distr, params):  \n",
    "    return kstest(test, distr, args=params)\n",
    "\n",
    "def ChiSquareOnTest(test, distr, params):\n",
    "    histo, bin_edges = np.histogram(test, bins='sqrt', density=False)\n",
    "    n_bins = len(bin_edges) - 1\n",
    "    f_ops = histo\n",
    "    fdist = getattr(st, distr)\n",
    "    cdf = fdist.cdf(bin_edges, *params)\n",
    "    f_exp = len(test) * np.diff(cdf)\n",
    "    \n",
    "    return chisquare(f_ops, f_exp, ddof=len(params))"
   ]
  },
  {
   "cell_type": "code",
   "execution_count": 88,
   "metadata": {},
   "outputs": [
    {
     "name": "stdout",
     "output_type": "stream",
     "text": [
      "\n",
      "Chi2\n",
      "Best fitting distribution: invgamma\n",
      "Best p value: 0.23720272370530862\n",
      "Parameters for the best fit: (4.626817353534779, -16.824316843266423, 192.54994010012462)\n",
      "\n",
      "K-S\n",
      "Best fitting distribution: gengamma\n",
      "Best p value: 0.6426019376694742\n",
      "Parameters for the best fit: (2.4663401324108545, 0.7846132671096151, -0.04003878177690218, 10.704167840258002)\n",
      "\n",
      "Took time: 0:00:10.211554\n"
     ]
    }
   ],
   "source": [
    "start = datetime.datetime.now()\n",
    "distr_ks, params_ks, p_v_ks, distr_chi2, params_chi2, p_v_chi2 = GetBestDistribution(VALUES_NOT_NULL['all'])\n",
    "print ('\\nTook time: {0}'.format(datetime.datetime.now()-start))"
   ]
  },
  {
   "cell_type": "code",
   "execution_count": 72,
   "metadata": {},
   "outputs": [],
   "source": [
    "distr_params_all = defaultdict(dict)\n",
    "if p_v_ks >= 0.05:\n",
    "    distr_params_all['general'][distr_ks] = params_ks\n",
    "if p_v_chi2 >= 0.05:\n",
    "    distr_params_all['general'][distr_chi2] = params_chi2"
   ]
  },
  {
   "cell_type": "code",
   "execution_count": 74,
   "metadata": {},
   "outputs": [
    {
     "name": "stdout",
     "output_type": "stream",
     "text": [
      "shape,loc,scale = (1.598852354586769, 0, 22.4018140668582), p_v on Chi2 = 0.6671953252569016, p_v on KS = 0.015111119165368137\n"
     ]
    }
   ],
   "source": [
    "#GAMMA\n",
    "\n",
    "#проверим на гамма распределение \"более внимательно\"\n",
    "test_size = 0.2\n",
    "\n",
    "while True: \n",
    "    train, test = train_test_split(VALUES_NOT_NULL['all'], test_size=test_size)\n",
    "    params = FitParams(train,'gamma', floc=0)\n",
    "    s_chi2, p_chi2 = ChiSquareOnTest(test, 'gamma', params)\n",
    "    s_ks, p_ks = KSOnTest(test, 'gamma', params)\n",
    "    if p_chi2 >= 0.2 or p_ks >= 0.2:\n",
    "        break\n",
    "#based on chi2 and ks\n",
    "#TSP\n",
    "print('shape,loc,scale = {0}, p_v on Chi2 = {1}, p_v on KS = {2}'.format(params, p_chi2, p_ks))"
   ]
  },
  {
   "cell_type": "code",
   "execution_count": 75,
   "metadata": {},
   "outputs": [
    {
     "name": "stdout",
     "output_type": "stream",
     "text": [
      "GAMMA\n",
      "\n",
      "KS TEST:\n",
      "Power_divergenceResult(statistic=0.041353862173679395, pvalue=0.015111119165368137)\n",
      "CHISQARE TEST:\n",
      "Power_divergenceResult(statistic=29.935950711523255, pvalue=0.6671953252569016)\n"
     ]
    }
   ],
   "source": [
    "#GAMMA\n",
    "print('GAMMA\\n')\n",
    "\n",
    "stat, p_v = KSOnTest(test, 'gamma', params)\n",
    "print('KS TEST:\\nPower_divergenceResult(statistic={0}, pvalue={1})'.format(stat, p_v))\n",
    "stat, p_v = ChiSquareOnTest(test, 'gamma', params)\n",
    "print('CHISQARE TEST:\\nPower_divergenceResult(statistic={0}, pvalue={1})'.format(stat, p_v))"
   ]
  },
  {
   "cell_type": "code",
   "execution_count": 76,
   "metadata": {},
   "outputs": [],
   "source": [
    "distr_params_all['general']['gamma'] = params"
   ]
  },
  {
   "cell_type": "code",
   "execution_count": 77,
   "metadata": {},
   "outputs": [
    {
     "name": "stdout",
     "output_type": "stream",
     "text": [
      "Гистограмма для выборки TSP, сезон - general\n",
      "Поверх нее строятся теоритические функции плотности вероятности с вычисленными параметрами\n"
     ]
    },
    {
     "data": {
      "image/png": "[encoded data removed]",
      "text/plain": [
       "<Figure size 576x576 with 1 Axes>"
      ]
     },
     "metadata": {},
     "output_type": "display_data"
    }
   ],
   "source": [
    "fig2 = DistributionBySeason(VALUES['all'], ELEM_NAME, 'general', distr_params_all['general'])\n",
    "fig2.savefig(ELEM_NAME+'_DistrAll.png', bbox_inches='tight', pad_inches=0)"
   ]
  },
  {
   "cell_type": "code",
   "execution_count": 87,
   "metadata": {},
   "outputs": [
    {
     "name": "stdout",
     "output_type": "stream",
     "text": [
      "\n",
      "WINTER\n",
      "\n",
      "\n",
      "Chi2\n",
      "Best fitting distribution: gamma\n",
      "Best p value: 0.36691151714325604\n",
      "Parameters for the best fit: (1.656912669372827, 0.2552907158929993, 13.866690982729674)\n",
      "\n",
      "K-S\n",
      "Best fitting distribution: gamma\n",
      "Best p value: 0.9458396152896835\n",
      "Parameters for the best fit: (1.656912669372827, 0.2552907158929993, 13.866690982729674)\n",
      "\n",
      "SPRING\n",
      "\n",
      "\n",
      "Chi2\n",
      "Best fitting distribution: lognorm\n",
      "Best p value: 0.4395241152841976\n",
      "Parameters for the best fit: (0.6017362102412449, -7.025762314176026, 46.198301193910396)\n",
      "\n",
      "K-S\n",
      "Best fitting distribution: invgamma\n",
      "Best p value: 0.5084044662230804\n",
      "Parameters for the best fit: (5.34736723681041, -21.21366652442788, 302.8450963434955)\n",
      "\n",
      "SUMMER\n",
      "\n",
      "\n",
      "Chi2\n",
      "Best fitting distribution: lognorm\n",
      "Best p value: 0.24719610487708893\n",
      "Parameters for the best fit: (0.49517970388342125, -9.420248085819697, 45.97307771828348)\n",
      "\n",
      "K-S\n",
      "Best fitting distribution: genexpon\n",
      "Best p value: 0.30630899009202256\n",
      "Parameters for the best fit: (3.120552497074055e-08, 0.10216619880485545, 0.07065812714820494, 0.002612655129145793, 2.229383160018073)\n",
      "\n",
      "AUTUMN\n",
      "\n",
      "\n",
      "Chi2\n",
      "Best fitting distribution: gamma\n",
      "Best p value: 0.48303681953402855\n",
      "Parameters for the best fit: (1.3485873809284878, 0, 19.4989859327217)\n",
      "\n",
      "K-S\n",
      "Best fitting distribution: gamma\n",
      "Best p value: 0.35053548911230437\n",
      "Parameters for the best fit: (1.3485873809284878, 0, 19.4989859327217)\n",
      "\n",
      "Took time: 0:00:19.316652\n"
     ]
    }
   ],
   "source": [
    "start = datetime.datetime.now()\n",
    "seasons = ['winter','spring','summer','autumn']\n",
    "params_seasons_ks,params_seasons_chi2 = defaultdict(dict), defaultdict(dict)\n",
    "train_test_seasons1 = {}\n",
    "for s in seasons:\n",
    "    print()\n",
    "    print(s.upper())\n",
    "    print()\n",
    "    distr_ks,params_ks,p_v_ks, distr_chi2,params_chi2, p_v_chi2 = GetBestDistribution(VALUES_NOT_NULL[s])\n",
    "    if p_v_ks >= 0.05:\n",
    "        params_seasons_ks[s][distr_ks] = params_ks\n",
    "    if p_v_chi2 >= 0.05:\n",
    "        params_seasons_chi2[s][distr_chi2] = params_chi2\n",
    "print('\\nTook time: {0}'.format(datetime.datetime.now()-start))"
   ]
  },
  {
   "cell_type": "code",
   "execution_count": null,
   "metadata": {},
   "outputs": [],
   "source": [
    "distr_params_seasons = defaultdict(dict)\n",
    "for s in seasons:\n",
    "    try:\n",
    "        distr_ks, params_ks = list(params_seasons_ks[s].keys())[0], list(params_seasons_ks[s].values())[0] \n",
    "        distr_params_seasons[s][distr_ks] = params_ks\n",
    "    except IndexError:\n",
    "        continue\n",
    "for s in seasons:\n",
    "    try:\n",
    "        distr_chi2, params_chi2 = list(params_seasons_chi2[s].keys())[0], list(params_seasons_chi2[s].values())[0] \n",
    "        distr_params_seasons[s][distr_chi2] = params_chi2\n",
    "    except IndexError:\n",
    "        continue\n",
    "for s in seasons:\n",
    "    params_gamma = params_seasons[s]\n",
    "    distr_params_seasons[s]['gamma'] = params_gamma\n",
    "for s in seasons:\n",
    "    DistributionBySeason(VALUES_NOT_NULL[s], ELEM_NAME, season=s, params_dict=distr_params_seasons[s])"
   ]
  },
  {
   "cell_type": "code",
   "execution_count": null,
   "metadata": {},
   "outputs": [],
   "source": [
    "#GAMMA\n",
    "for s in seasons:\n",
    "    print(s.upper())\n",
    "    print()\n",
    "    stat, p_v = KSOnTest(train_test_seasons[s][1], 'gamma', params_seasons[s])\n",
    "    print('KS TEST:\\nPower_divergenceResult(statistic={0}, pvalue={1})'.format(stat, p_v))\n",
    "    stat, p_v = ChiSquareOnTest(train_test_seasons[s][1], 'gamma', params_seasons[s])\n",
    "    print('CHISQARE TEST:\\nPower_divergenceResult(statistic={0}, pvalue={1})'.format(stat, p_v))\n",
    "    print()"
   ]
  },
  {
   "cell_type": "code",
   "execution_count": 91,
   "metadata": {},
   "outputs": [
    {
     "name": "stdout",
     "output_type": "stream",
     "text": [
      "Принимаем гипотезу однородности К-С, если p-value > 0.05, сопоставляем 1, иначе 0\n",
      "Число подряд идущих 1 - синим цветом, 0 - серым \n"
     ]
    },
    {
     "data": {
      "image/png": "[encoded data removed]",
      "text/plain": [
       "<Figure size 1008x1008 with 1 Axes>"
      ]
     },
     "metadata": {},
     "output_type": "display_data"
    }
   ],
   "source": [
    "fig4 = HistOnRepValues(RepeatedValuesCount(KSTest2Sample(VALUES['all'])),ELEM_NAME)\n",
    "fig4.savefig(ELEM_NAME+'_Contin.png', bbox_inches='tight')"
   ]
  },
  {
   "cell_type": "markdown",
   "metadata": {},
   "source": [
    "The same I repeated with other polutants"
   ]
  },
  {
   "cell_type": "code",
   "execution_count": null,
   "metadata": {},
   "outputs": [],
   "source": []
  }
 ],
 "metadata": {
  "kernelspec": {
   "display_name": "Python 3",
   "language": "python",
   "name": "python3"
  },
  "language_info": {
   "codemirror_mode": {
    "name": "ipython",
    "version": 3
   },
   "file_extension": ".py",
   "mimetype": "text/x-python",
   "name": "python",
   "nbconvert_exporter": "python",
   "pygments_lexer": "ipython3",
   "version": "3.7.6"
  }
 },
 "nbformat": 4,
 "nbformat_minor": 2
}
